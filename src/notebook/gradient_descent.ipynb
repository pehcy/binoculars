{
 "cells": [
  {
   "cell_type": "code",
   "execution_count": 1,
   "metadata": {},
   "outputs": [],
   "source": [
    "import pandas as pd\n",
    "import numpy as np\n",
    "import matplotlib.pyplot as plt\n",
    "import math"
   ]
  },
  {
   "cell_type": "code",
   "execution_count": 2,
   "metadata": {},
   "outputs": [
    {
     "data": {
      "text/html": [
       "<div>\n",
       "<style scoped>\n",
       "    .dataframe tbody tr th:only-of-type {\n",
       "        vertical-align: middle;\n",
       "    }\n",
       "\n",
       "    .dataframe tbody tr th {\n",
       "        vertical-align: top;\n",
       "    }\n",
       "\n",
       "    .dataframe thead th {\n",
       "        text-align: right;\n",
       "    }\n",
       "</style>\n",
       "<table border=\"1\" class=\"dataframe\">\n",
       "  <thead>\n",
       "    <tr style=\"text-align: right;\">\n",
       "      <th></th>\n",
       "      <th>Opentime</th>\n",
       "      <th>Open</th>\n",
       "      <th>High</th>\n",
       "      <th>Low</th>\n",
       "      <th>Close</th>\n",
       "      <th>Volume</th>\n",
       "      <th>Closetime</th>\n",
       "      <th>Quote asset volume</th>\n",
       "      <th>Number of trades</th>\n",
       "      <th>Taker by base</th>\n",
       "      <th>Taker buy quote</th>\n",
       "      <th>Ignore</th>\n",
       "    </tr>\n",
       "  </thead>\n",
       "  <tbody>\n",
       "    <tr>\n",
       "      <th>0</th>\n",
       "      <td>2021-11-01 08:00:00</td>\n",
       "      <td>1.965</td>\n",
       "      <td>2.019</td>\n",
       "      <td>1.911</td>\n",
       "      <td>1.949</td>\n",
       "      <td>144061135.4</td>\n",
       "      <td>1635811199999</td>\n",
       "      <td>2.824457e+08</td>\n",
       "      <td>443944</td>\n",
       "      <td>71078236.0</td>\n",
       "      <td>1.394258e+08</td>\n",
       "      <td>0</td>\n",
       "    </tr>\n",
       "    <tr>\n",
       "      <th>1</th>\n",
       "      <td>2021-11-02 08:00:00</td>\n",
       "      <td>1.949</td>\n",
       "      <td>1.996</td>\n",
       "      <td>1.933</td>\n",
       "      <td>1.971</td>\n",
       "      <td>124263204.0</td>\n",
       "      <td>1635897599999</td>\n",
       "      <td>2.446304e+08</td>\n",
       "      <td>382592</td>\n",
       "      <td>64339347.3</td>\n",
       "      <td>1.267002e+08</td>\n",
       "      <td>0</td>\n",
       "    </tr>\n",
       "    <tr>\n",
       "      <th>2</th>\n",
       "      <td>2021-11-03 08:00:00</td>\n",
       "      <td>1.971</td>\n",
       "      <td>2.144</td>\n",
       "      <td>1.950</td>\n",
       "      <td>2.063</td>\n",
       "      <td>335561983.7</td>\n",
       "      <td>1635983999999</td>\n",
       "      <td>6.936646e+08</td>\n",
       "      <td>1237122</td>\n",
       "      <td>167743048.3</td>\n",
       "      <td>3.467647e+08</td>\n",
       "      <td>0</td>\n",
       "    </tr>\n",
       "    <tr>\n",
       "      <th>3</th>\n",
       "      <td>2021-11-04 08:00:00</td>\n",
       "      <td>2.063</td>\n",
       "      <td>2.103</td>\n",
       "      <td>1.933</td>\n",
       "      <td>1.983</td>\n",
       "      <td>174549100.4</td>\n",
       "      <td>1636070399999</td>\n",
       "      <td>3.509825e+08</td>\n",
       "      <td>586577</td>\n",
       "      <td>80789835.4</td>\n",
       "      <td>1.624612e+08</td>\n",
       "      <td>0</td>\n",
       "    </tr>\n",
       "    <tr>\n",
       "      <th>4</th>\n",
       "      <td>2021-11-05 08:00:00</td>\n",
       "      <td>1.983</td>\n",
       "      <td>2.017</td>\n",
       "      <td>1.959</td>\n",
       "      <td>1.982</td>\n",
       "      <td>108180863.7</td>\n",
       "      <td>1636156799999</td>\n",
       "      <td>2.150281e+08</td>\n",
       "      <td>346939</td>\n",
       "      <td>51873631.3</td>\n",
       "      <td>1.030921e+08</td>\n",
       "      <td>0</td>\n",
       "    </tr>\n",
       "  </tbody>\n",
       "</table>\n",
       "</div>"
      ],
      "text/plain": [
       "              Opentime   Open   High    Low  Close       Volume  \\\n",
       "0  2021-11-01 08:00:00  1.965  2.019  1.911  1.949  144061135.4   \n",
       "1  2021-11-02 08:00:00  1.949  1.996  1.933  1.971  124263204.0   \n",
       "2  2021-11-03 08:00:00  1.971  2.144  1.950  2.063  335561983.7   \n",
       "3  2021-11-04 08:00:00  2.063  2.103  1.933  1.983  174549100.4   \n",
       "4  2021-11-05 08:00:00  1.983  2.017  1.959  1.982  108180863.7   \n",
       "\n",
       "       Closetime  Quote asset volume  Number of trades  Taker by base  \\\n",
       "0  1635811199999        2.824457e+08            443944     71078236.0   \n",
       "1  1635897599999        2.446304e+08            382592     64339347.3   \n",
       "2  1635983999999        6.936646e+08           1237122    167743048.3   \n",
       "3  1636070399999        3.509825e+08            586577     80789835.4   \n",
       "4  1636156799999        2.150281e+08            346939     51873631.3   \n",
       "\n",
       "   Taker buy quote  Ignore  \n",
       "0     1.394258e+08       0  \n",
       "1     1.267002e+08       0  \n",
       "2     3.467647e+08       0  \n",
       "3     1.624612e+08       0  \n",
       "4     1.030921e+08       0  "
      ]
     },
     "execution_count": 2,
     "metadata": {},
     "output_type": "execute_result"
    }
   ],
   "source": [
    "df = pd.read_csv(\"../data/adausdt.csv\")\n",
    "df.head()"
   ]
  },
  {
   "cell_type": "markdown",
   "metadata": {},
   "source": [
    "The trading strategy is simple:\n",
    "- Long the stock if the shorter SMA > longer SMA\n",
    "- Short  the stock if the shorter SMA < longer SMA"
   ]
  },
  {
   "cell_type": "code",
   "execution_count": 3,
   "metadata": {},
   "outputs": [],
   "source": [
    "short_sma = 7\n",
    "long_sma = 14"
   ]
  },
  {
   "cell_type": "code",
   "execution_count": 4,
   "metadata": {},
   "outputs": [
    {
     "data": {
      "text/html": [
       "<div>\n",
       "<style scoped>\n",
       "    .dataframe tbody tr th:only-of-type {\n",
       "        vertical-align: middle;\n",
       "    }\n",
       "\n",
       "    .dataframe tbody tr th {\n",
       "        vertical-align: top;\n",
       "    }\n",
       "\n",
       "    .dataframe thead th {\n",
       "        text-align: right;\n",
       "    }\n",
       "</style>\n",
       "<table border=\"1\" class=\"dataframe\">\n",
       "  <thead>\n",
       "    <tr style=\"text-align: right;\">\n",
       "      <th></th>\n",
       "      <th>Opentime</th>\n",
       "      <th>Open</th>\n",
       "      <th>High</th>\n",
       "      <th>Low</th>\n",
       "      <th>Close</th>\n",
       "      <th>Volume</th>\n",
       "      <th>Closetime</th>\n",
       "      <th>Quote asset volume</th>\n",
       "      <th>Number of trades</th>\n",
       "      <th>Taker by base</th>\n",
       "      <th>Taker buy quote</th>\n",
       "      <th>Ignore</th>\n",
       "      <th>SMA1</th>\n",
       "      <th>SMA2</th>\n",
       "    </tr>\n",
       "  </thead>\n",
       "  <tbody>\n",
       "    <tr>\n",
       "      <th>239</th>\n",
       "      <td>2022-06-28 08:00:00</td>\n",
       "      <td>0.4855</td>\n",
       "      <td>0.4975</td>\n",
       "      <td>0.4671</td>\n",
       "      <td>0.4694</td>\n",
       "      <td>163559982.8</td>\n",
       "      <td>1656460799999</td>\n",
       "      <td>7.894841e+07</td>\n",
       "      <td>186022</td>\n",
       "      <td>78703385.9</td>\n",
       "      <td>3.800271e+07</td>\n",
       "      <td>0</td>\n",
       "      <td>0.529443</td>\n",
       "      <td>1.069858</td>\n",
       "    </tr>\n",
       "    <tr>\n",
       "      <th>240</th>\n",
       "      <td>2022-06-29 08:00:00</td>\n",
       "      <td>0.4693</td>\n",
       "      <td>0.4772</td>\n",
       "      <td>0.4588</td>\n",
       "      <td>0.4662</td>\n",
       "      <td>166130162.2</td>\n",
       "      <td>1656547199999</td>\n",
       "      <td>7.777351e+07</td>\n",
       "      <td>171783</td>\n",
       "      <td>79642286.4</td>\n",
       "      <td>3.729005e+07</td>\n",
       "      <td>0</td>\n",
       "      <td>0.525990</td>\n",
       "      <td>1.063679</td>\n",
       "    </tr>\n",
       "    <tr>\n",
       "      <th>241</th>\n",
       "      <td>2022-06-30 08:00:00</td>\n",
       "      <td>0.4662</td>\n",
       "      <td>0.4677</td>\n",
       "      <td>0.4352</td>\n",
       "      <td>0.4599</td>\n",
       "      <td>212174584.9</td>\n",
       "      <td>1656633599999</td>\n",
       "      <td>9.507568e+07</td>\n",
       "      <td>216004</td>\n",
       "      <td>106495608.1</td>\n",
       "      <td>4.772010e+07</td>\n",
       "      <td>0</td>\n",
       "      <td>0.520427</td>\n",
       "      <td>1.057383</td>\n",
       "    </tr>\n",
       "    <tr>\n",
       "      <th>242</th>\n",
       "      <td>2022-07-01 08:00:00</td>\n",
       "      <td>0.4599</td>\n",
       "      <td>0.4750</td>\n",
       "      <td>0.4427</td>\n",
       "      <td>0.4487</td>\n",
       "      <td>182788187.1</td>\n",
       "      <td>1656719999999</td>\n",
       "      <td>8.308157e+07</td>\n",
       "      <td>182713</td>\n",
       "      <td>90547200.6</td>\n",
       "      <td>4.116893e+07</td>\n",
       "      <td>0</td>\n",
       "      <td>0.516997</td>\n",
       "      <td>1.050657</td>\n",
       "    </tr>\n",
       "    <tr>\n",
       "      <th>243</th>\n",
       "      <td>2022-07-02 08:00:00</td>\n",
       "      <td>0.4487</td>\n",
       "      <td>0.4617</td>\n",
       "      <td>0.4408</td>\n",
       "      <td>0.4559</td>\n",
       "      <td>109165380.7</td>\n",
       "      <td>1656806399999</td>\n",
       "      <td>4.919145e+07</td>\n",
       "      <td>103433</td>\n",
       "      <td>54511257.6</td>\n",
       "      <td>2.456075e+07</td>\n",
       "      <td>0</td>\n",
       "      <td>0.512623</td>\n",
       "      <td>1.044294</td>\n",
       "    </tr>\n",
       "  </tbody>\n",
       "</table>\n",
       "</div>"
      ],
      "text/plain": [
       "                Opentime    Open    High     Low   Close       Volume  \\\n",
       "239  2022-06-28 08:00:00  0.4855  0.4975  0.4671  0.4694  163559982.8   \n",
       "240  2022-06-29 08:00:00  0.4693  0.4772  0.4588  0.4662  166130162.2   \n",
       "241  2022-06-30 08:00:00  0.4662  0.4677  0.4352  0.4599  212174584.9   \n",
       "242  2022-07-01 08:00:00  0.4599  0.4750  0.4427  0.4487  182788187.1   \n",
       "243  2022-07-02 08:00:00  0.4487  0.4617  0.4408  0.4559  109165380.7   \n",
       "\n",
       "         Closetime  Quote asset volume  Number of trades  Taker by base  \\\n",
       "239  1656460799999        7.894841e+07            186022     78703385.9   \n",
       "240  1656547199999        7.777351e+07            171783     79642286.4   \n",
       "241  1656633599999        9.507568e+07            216004    106495608.1   \n",
       "242  1656719999999        8.308157e+07            182713     90547200.6   \n",
       "243  1656806399999        4.919145e+07            103433     54511257.6   \n",
       "\n",
       "     Taker buy quote  Ignore      SMA1      SMA2  \n",
       "239     3.800271e+07       0  0.529443  1.069858  \n",
       "240     3.729005e+07       0  0.525990  1.063679  \n",
       "241     4.772010e+07       0  0.520427  1.057383  \n",
       "242     4.116893e+07       0  0.516997  1.050657  \n",
       "243     2.456075e+07       0  0.512623  1.044294  "
      ]
     },
     "execution_count": 4,
     "metadata": {},
     "output_type": "execute_result"
    }
   ],
   "source": [
    "df['SMA1'] = df['Close'].rolling(short_sma).mean()\n",
    "df['SMA2'] = df['Close'].rolling(long_sma).mean()\n",
    "# drop the rows with NaN entries\n",
    "df.dropna(inplace=True)\n",
    "df.head()"
   ]
  },
  {
   "cell_type": "code",
   "execution_count": 5,
   "metadata": {},
   "outputs": [],
   "source": [
    "df['Position'] = np.where(df['SMA1'] > df['SMA2'], 1, -1)"
   ]
  },
  {
   "cell_type": "code",
   "execution_count": 6,
   "metadata": {},
   "outputs": [
    {
     "data": {
      "text/html": [
       "<div>\n",
       "<style scoped>\n",
       "    .dataframe tbody tr th:only-of-type {\n",
       "        vertical-align: middle;\n",
       "    }\n",
       "\n",
       "    .dataframe tbody tr th {\n",
       "        vertical-align: top;\n",
       "    }\n",
       "\n",
       "    .dataframe thead th {\n",
       "        text-align: right;\n",
       "    }\n",
       "</style>\n",
       "<table border=\"1\" class=\"dataframe\">\n",
       "  <thead>\n",
       "    <tr style=\"text-align: right;\">\n",
       "      <th></th>\n",
       "      <th>Opentime</th>\n",
       "      <th>Open</th>\n",
       "      <th>High</th>\n",
       "      <th>Low</th>\n",
       "      <th>Close</th>\n",
       "      <th>Volume</th>\n",
       "      <th>Closetime</th>\n",
       "      <th>Quote asset volume</th>\n",
       "      <th>Number of trades</th>\n",
       "      <th>Taker by base</th>\n",
       "      <th>Taker buy quote</th>\n",
       "      <th>Ignore</th>\n",
       "      <th>SMA1</th>\n",
       "      <th>SMA2</th>\n",
       "      <th>Position</th>\n",
       "    </tr>\n",
       "  </thead>\n",
       "  <tbody>\n",
       "    <tr>\n",
       "      <th>239</th>\n",
       "      <td>2022-06-28 08:00:00</td>\n",
       "      <td>0.4855</td>\n",
       "      <td>0.4975</td>\n",
       "      <td>0.4671</td>\n",
       "      <td>0.4694</td>\n",
       "      <td>163559982.8</td>\n",
       "      <td>1656460799999</td>\n",
       "      <td>7.894841e+07</td>\n",
       "      <td>186022</td>\n",
       "      <td>78703385.9</td>\n",
       "      <td>3.800271e+07</td>\n",
       "      <td>0</td>\n",
       "      <td>0.529443</td>\n",
       "      <td>1.069858</td>\n",
       "      <td>-1</td>\n",
       "    </tr>\n",
       "    <tr>\n",
       "      <th>240</th>\n",
       "      <td>2022-06-29 08:00:00</td>\n",
       "      <td>0.4693</td>\n",
       "      <td>0.4772</td>\n",
       "      <td>0.4588</td>\n",
       "      <td>0.4662</td>\n",
       "      <td>166130162.2</td>\n",
       "      <td>1656547199999</td>\n",
       "      <td>7.777351e+07</td>\n",
       "      <td>171783</td>\n",
       "      <td>79642286.4</td>\n",
       "      <td>3.729005e+07</td>\n",
       "      <td>0</td>\n",
       "      <td>0.525990</td>\n",
       "      <td>1.063679</td>\n",
       "      <td>-1</td>\n",
       "    </tr>\n",
       "    <tr>\n",
       "      <th>241</th>\n",
       "      <td>2022-06-30 08:00:00</td>\n",
       "      <td>0.4662</td>\n",
       "      <td>0.4677</td>\n",
       "      <td>0.4352</td>\n",
       "      <td>0.4599</td>\n",
       "      <td>212174584.9</td>\n",
       "      <td>1656633599999</td>\n",
       "      <td>9.507568e+07</td>\n",
       "      <td>216004</td>\n",
       "      <td>106495608.1</td>\n",
       "      <td>4.772010e+07</td>\n",
       "      <td>0</td>\n",
       "      <td>0.520427</td>\n",
       "      <td>1.057383</td>\n",
       "      <td>-1</td>\n",
       "    </tr>\n",
       "    <tr>\n",
       "      <th>242</th>\n",
       "      <td>2022-07-01 08:00:00</td>\n",
       "      <td>0.4599</td>\n",
       "      <td>0.4750</td>\n",
       "      <td>0.4427</td>\n",
       "      <td>0.4487</td>\n",
       "      <td>182788187.1</td>\n",
       "      <td>1656719999999</td>\n",
       "      <td>8.308157e+07</td>\n",
       "      <td>182713</td>\n",
       "      <td>90547200.6</td>\n",
       "      <td>4.116893e+07</td>\n",
       "      <td>0</td>\n",
       "      <td>0.516997</td>\n",
       "      <td>1.050657</td>\n",
       "      <td>-1</td>\n",
       "    </tr>\n",
       "    <tr>\n",
       "      <th>243</th>\n",
       "      <td>2022-07-02 08:00:00</td>\n",
       "      <td>0.4487</td>\n",
       "      <td>0.4617</td>\n",
       "      <td>0.4408</td>\n",
       "      <td>0.4559</td>\n",
       "      <td>109165380.7</td>\n",
       "      <td>1656806399999</td>\n",
       "      <td>4.919145e+07</td>\n",
       "      <td>103433</td>\n",
       "      <td>54511257.6</td>\n",
       "      <td>2.456075e+07</td>\n",
       "      <td>0</td>\n",
       "      <td>0.512623</td>\n",
       "      <td>1.044294</td>\n",
       "      <td>-1</td>\n",
       "    </tr>\n",
       "  </tbody>\n",
       "</table>\n",
       "</div>"
      ],
      "text/plain": [
       "                Opentime    Open    High     Low   Close       Volume  \\\n",
       "239  2022-06-28 08:00:00  0.4855  0.4975  0.4671  0.4694  163559982.8   \n",
       "240  2022-06-29 08:00:00  0.4693  0.4772  0.4588  0.4662  166130162.2   \n",
       "241  2022-06-30 08:00:00  0.4662  0.4677  0.4352  0.4599  212174584.9   \n",
       "242  2022-07-01 08:00:00  0.4599  0.4750  0.4427  0.4487  182788187.1   \n",
       "243  2022-07-02 08:00:00  0.4487  0.4617  0.4408  0.4559  109165380.7   \n",
       "\n",
       "         Closetime  Quote asset volume  Number of trades  Taker by base  \\\n",
       "239  1656460799999        7.894841e+07            186022     78703385.9   \n",
       "240  1656547199999        7.777351e+07            171783     79642286.4   \n",
       "241  1656633599999        9.507568e+07            216004    106495608.1   \n",
       "242  1656719999999        8.308157e+07            182713     90547200.6   \n",
       "243  1656806399999        4.919145e+07            103433     54511257.6   \n",
       "\n",
       "     Taker buy quote  Ignore      SMA1      SMA2  Position  \n",
       "239     3.800271e+07       0  0.529443  1.069858        -1  \n",
       "240     3.729005e+07       0  0.525990  1.063679        -1  \n",
       "241     4.772010e+07       0  0.520427  1.057383        -1  \n",
       "242     4.116893e+07       0  0.516997  1.050657        -1  \n",
       "243     2.456075e+07       0  0.512623  1.044294        -1  "
      ]
     },
     "execution_count": 6,
     "metadata": {},
     "output_type": "execute_result"
    }
   ],
   "source": [
    "df.head()"
   ]
  },
  {
   "cell_type": "code",
   "execution_count": 7,
   "metadata": {},
   "outputs": [
    {
     "data": {
      "image/png": "[encoded data removed]",
      "text/plain": [
       "<Figure size 1000x600 with 1 Axes>"
      ]
     },
     "metadata": {},
     "output_type": "display_data"
    }
   ],
   "source": [
    "ax = df['Position'].plot(figsize=(10,6))"
   ]
  },
  {
   "cell_type": "markdown",
   "metadata": {},
   "source": [
    "## Machine Learning Approach: Classification\n",
    "\n",
    "Another strategy is that we compute the log returns for each consecutive timestamps."
   ]
  },
  {
   "cell_type": "code",
   "execution_count": 8,
   "metadata": {},
   "outputs": [
    {
     "data": {
      "text/html": [
       "<div>\n",
       "<style scoped>\n",
       "    .dataframe tbody tr th:only-of-type {\n",
       "        vertical-align: middle;\n",
       "    }\n",
       "\n",
       "    .dataframe tbody tr th {\n",
       "        vertical-align: top;\n",
       "    }\n",
       "\n",
       "    .dataframe thead th {\n",
       "        text-align: right;\n",
       "    }\n",
       "</style>\n",
       "<table border=\"1\" class=\"dataframe\">\n",
       "  <thead>\n",
       "    <tr style=\"text-align: right;\">\n",
       "      <th></th>\n",
       "      <th>Opentime</th>\n",
       "      <th>Open</th>\n",
       "      <th>High</th>\n",
       "      <th>Low</th>\n",
       "      <th>Close</th>\n",
       "      <th>Volume</th>\n",
       "      <th>Closetime</th>\n",
       "      <th>Quote asset volume</th>\n",
       "      <th>Number of trades</th>\n",
       "      <th>Taker by base</th>\n",
       "      <th>Taker buy quote</th>\n",
       "      <th>Ignore</th>\n",
       "    </tr>\n",
       "  </thead>\n",
       "  <tbody>\n",
       "    <tr>\n",
       "      <th>0</th>\n",
       "      <td>2021-11-01 08:00:00</td>\n",
       "      <td>1.965</td>\n",
       "      <td>2.019</td>\n",
       "      <td>1.911</td>\n",
       "      <td>1.949</td>\n",
       "      <td>144061135.4</td>\n",
       "      <td>1635811199999</td>\n",
       "      <td>2.824457e+08</td>\n",
       "      <td>443944</td>\n",
       "      <td>71078236.0</td>\n",
       "      <td>1.394258e+08</td>\n",
       "      <td>0</td>\n",
       "    </tr>\n",
       "    <tr>\n",
       "      <th>1</th>\n",
       "      <td>2021-11-02 08:00:00</td>\n",
       "      <td>1.949</td>\n",
       "      <td>1.996</td>\n",
       "      <td>1.933</td>\n",
       "      <td>1.971</td>\n",
       "      <td>124263204.0</td>\n",
       "      <td>1635897599999</td>\n",
       "      <td>2.446304e+08</td>\n",
       "      <td>382592</td>\n",
       "      <td>64339347.3</td>\n",
       "      <td>1.267002e+08</td>\n",
       "      <td>0</td>\n",
       "    </tr>\n",
       "    <tr>\n",
       "      <th>2</th>\n",
       "      <td>2021-11-03 08:00:00</td>\n",
       "      <td>1.971</td>\n",
       "      <td>2.144</td>\n",
       "      <td>1.950</td>\n",
       "      <td>2.063</td>\n",
       "      <td>335561983.7</td>\n",
       "      <td>1635983999999</td>\n",
       "      <td>6.936646e+08</td>\n",
       "      <td>1237122</td>\n",
       "      <td>167743048.3</td>\n",
       "      <td>3.467647e+08</td>\n",
       "      <td>0</td>\n",
       "    </tr>\n",
       "    <tr>\n",
       "      <th>3</th>\n",
       "      <td>2021-11-04 08:00:00</td>\n",
       "      <td>2.063</td>\n",
       "      <td>2.103</td>\n",
       "      <td>1.933</td>\n",
       "      <td>1.983</td>\n",
       "      <td>174549100.4</td>\n",
       "      <td>1636070399999</td>\n",
       "      <td>3.509825e+08</td>\n",
       "      <td>586577</td>\n",
       "      <td>80789835.4</td>\n",
       "      <td>1.624612e+08</td>\n",
       "      <td>0</td>\n",
       "    </tr>\n",
       "    <tr>\n",
       "      <th>4</th>\n",
       "      <td>2021-11-05 08:00:00</td>\n",
       "      <td>1.983</td>\n",
       "      <td>2.017</td>\n",
       "      <td>1.959</td>\n",
       "      <td>1.982</td>\n",
       "      <td>108180863.7</td>\n",
       "      <td>1636156799999</td>\n",
       "      <td>2.150281e+08</td>\n",
       "      <td>346939</td>\n",
       "      <td>51873631.3</td>\n",
       "      <td>1.030921e+08</td>\n",
       "      <td>0</td>\n",
       "    </tr>\n",
       "  </tbody>\n",
       "</table>\n",
       "</div>"
      ],
      "text/plain": [
       "              Opentime   Open   High    Low  Close       Volume  \\\n",
       "0  2021-11-01 08:00:00  1.965  2.019  1.911  1.949  144061135.4   \n",
       "1  2021-11-02 08:00:00  1.949  1.996  1.933  1.971  124263204.0   \n",
       "2  2021-11-03 08:00:00  1.971  2.144  1.950  2.063  335561983.7   \n",
       "3  2021-11-04 08:00:00  2.063  2.103  1.933  1.983  174549100.4   \n",
       "4  2021-11-05 08:00:00  1.983  2.017  1.959  1.982  108180863.7   \n",
       "\n",
       "       Closetime  Quote asset volume  Number of trades  Taker by base  \\\n",
       "0  1635811199999        2.824457e+08            443944     71078236.0   \n",
       "1  1635897599999        2.446304e+08            382592     64339347.3   \n",
       "2  1635983999999        6.936646e+08           1237122    167743048.3   \n",
       "3  1636070399999        3.509825e+08            586577     80789835.4   \n",
       "4  1636156799999        2.150281e+08            346939     51873631.3   \n",
       "\n",
       "   Taker buy quote  Ignore  \n",
       "0     1.394258e+08       0  \n",
       "1     1.267002e+08       0  \n",
       "2     3.467647e+08       0  \n",
       "3     1.624612e+08       0  \n",
       "4     1.030921e+08       0  "
      ]
     },
     "execution_count": 8,
     "metadata": {},
     "output_type": "execute_result"
    }
   ],
   "source": [
    "df = pd.read_csv(\"../data/adausdt.csv\")\n",
    "df.head()"
   ]
  },
  {
   "cell_type": "code",
   "execution_count": 9,
   "metadata": {},
   "outputs": [],
   "source": [
    "df['returns'] = np.log(df['Close'] / df['Close'].shift(1))\n",
    "df.dropna(inplace=True)\n",
    "df['direction'] = np.sign(df['returns']).astype(int)"
   ]
  },
  {
   "cell_type": "code",
   "execution_count": 10,
   "metadata": {},
   "outputs": [],
   "source": [
    "def create_lags(data):\n",
    "    global cols\n",
    "    cols = []\n",
    "    for lag in range(1, 3):\n",
    "        col = 'lag_{}'.format(lag)\n",
    "        data[col] = data['returns'].shift(lag)\n",
    "        cols.append(col)\n",
    "    print('The following columns have been added: \\n')\n",
    "    print(cols)"
   ]
  },
  {
   "cell_type": "code",
   "execution_count": 11,
   "metadata": {},
   "outputs": [
    {
     "name": "stdout",
     "output_type": "stream",
     "text": [
      "The following columns have been added: \n",
      "\n",
      "['lag_1', 'lag_2']\n"
     ]
    }
   ],
   "source": [
    "create_lags(df)"
   ]
  },
  {
   "cell_type": "code",
   "execution_count": 12,
   "metadata": {},
   "outputs": [],
   "source": [
    "df.dropna(inplace=True)"
   ]
  },
  {
   "cell_type": "code",
   "execution_count": 13,
   "metadata": {},
   "outputs": [],
   "source": [
    "split = int(len(df) * 0.80)"
   ]
  },
  {
   "cell_type": "code",
   "execution_count": 14,
   "metadata": {},
   "outputs": [
    {
     "data": {
      "text/plain": [
       "(216, 16)"
      ]
     },
     "execution_count": 14,
     "metadata": {},
     "output_type": "execute_result"
    }
   ],
   "source": [
    "train = df.iloc[:split].copy()\n",
    "train.shape"
   ]
  },
  {
   "cell_type": "code",
   "execution_count": 15,
   "metadata": {},
   "outputs": [
    {
     "data": {
      "image/png": "[encoded data removed]",
      "text/plain": [
       "<Figure size 600x600 with 1 Axes>"
      ]
     },
     "metadata": {},
     "output_type": "display_data"
    }
   ],
   "source": [
    "import seaborn as sns\n",
    "import matplotlib.pyplot as plt\n",
    "\n",
    "fig,ax = plt.subplots(1,1,figsize=(6,6))\n",
    "fig = sns.scatterplot(data=train, x=\"lag_1\", y=\"lag_2\", hue=\"direction\", style=\"direction\", palette=\"deep\")"
   ]
  },
  {
   "cell_type": "markdown",
   "metadata": {},
   "source": [
    "For our logistic regression model, \n",
    "\n",
    "$$\n",
    "z = \\overrightarrow{w} \\cdot \\overrightarrow{x} + b\n",
    "$$"
   ]
  },
  {
   "cell_type": "markdown",
   "metadata": {},
   "source": [
    "From the raw features data, we transformed into a polynomial with terms $x_1$ and $x_2$, \n",
    "which represents `lag_1` and `lag_2` respectively.\n",
    "\n",
    "$$\n",
    "y = w_1 x_1 + w_2 x_2 + w_3 x_1^2 + \\cdots + w_n x_1^7 x_2^8\n",
    "$$"
   ]
  },
  {
   "cell_type": "code",
   "execution_count": 16,
   "metadata": {},
   "outputs": [
    {
     "data": {
      "text/plain": [
       "array([[ 4.56202059e-02,  1.12246076e-02,  2.08120319e-03, ...,\n",
       "         4.16237781e-15,  1.02413080e-15,  2.51981904e-16],\n",
       "       [-3.95503846e-02,  4.56202059e-02,  1.56423292e-03, ...,\n",
       "         1.41008362e-11, -1.62649001e-11,  1.87610841e-11],\n",
       "       [-5.04413630e-04, -3.95503846e-02,  2.54433110e-07, ...,\n",
       "         9.73818206e-16,  7.63557570e-14,  5.98695073e-12],\n",
       "       ...,\n",
       "       [ 1.15402967e-02, -4.72583793e-02,  1.33178449e-04, ...,\n",
       "         1.48356608e-12, -6.07531421e-12,  2.48788667e-11],\n",
       "       [ 1.58744191e-03,  1.15402967e-02,  2.51997181e-06, ...,\n",
       "         5.95247443e-18,  4.32729670e-17,  3.14583405e-16],\n",
       "       [ 7.09179355e-02,  1.58744191e-03,  5.02935357e-03, ...,\n",
       "         8.04820842e-20,  1.80152781e-21,  4.03257755e-23]])"
      ]
     },
     "execution_count": 16,
     "metadata": {},
     "output_type": "execute_result"
    }
   ],
   "source": [
    "import sys\n",
    "sys.path.append('../')\n",
    "\n",
    "from utils import *\n",
    "\n",
    "X_mapped = map_feature(train.lag_1, train.lag_2)\n",
    "X_mapped"
   ]
  },
  {
   "cell_type": "code",
   "execution_count": 17,
   "metadata": {},
   "outputs": [
    {
     "name": "stdout",
     "output_type": "stream",
     "text": [
      "Iteration    0: Cost     1.63   \n",
      "Iteration 1000: Cost    -0.33   \n",
      "Iteration 2000: Cost    -0.71   \n",
      "Iteration 3000: Cost    -1.02   \n",
      "Iteration 4000: Cost    -1.32   \n",
      "Iteration 5000: Cost    -1.61   \n",
      "Iteration 6000: Cost    -1.90   \n",
      "Iteration 7000: Cost    -2.18   \n",
      "Iteration 8000: Cost    -2.46   \n",
      "Iteration 9000: Cost    -2.74   \n",
      "Iteration 9999: Cost    -3.02   \n"
     ]
    }
   ],
   "source": [
    "# Initialize fitting parameters\n",
    "np.random.seed(42)\n",
    "initial_w = np.random.rand(X_mapped.shape[1])-0.5\n",
    "initial_b = 1.\n",
    "\n",
    "# Set regularization parameter lambda_ to 1 (you can try varying this)\n",
    "lambda_ = 0.01;                                          \n",
    "# Some gradient descent settings\n",
    "iterations = 10000\n",
    "alpha = 0.01\n",
    "\n",
    "y_train = train.direction.to_numpy()\n",
    "\n",
    "w,b, J_history,_ = gradient_descent(z_scaler(X_mapped), y_train, initial_w, initial_b, \n",
    "                                    compute_cost_reg, compute_gradient_reg, \n",
    "                                    alpha, iterations, lambda_)"
   ]
  },
  {
   "cell_type": "markdown",
   "metadata": {},
   "source": [
    "once computed, the fitting parameters are"
   ]
  },
  {
   "cell_type": "code",
   "execution_count": 18,
   "metadata": {},
   "outputs": [
    {
     "data": {
      "text/plain": [
       "array([-2.66610257e+00, -1.26076391e+00, -6.80987660e+00, -4.68830000e-02,\n",
       "       -7.76267389e+00, -2.23448260e-03, -7.56078827e-01,  7.51622635e-02,\n",
       "       -9.99238896e-02, -5.75913632e-02, -6.19148101e-01,  2.73163534e-01,\n",
       "        2.10756292e-01, -5.75261421e-01, -4.54182659e-01, -4.74994138e-01,\n",
       "       -3.48144432e-01, -1.34167326e-01, -2.29783347e-01, -3.63632410e-01,\n",
       "       -4.54114484e-02, -5.13918957e-01, -3.62627859e-01, -2.87578991e-01,\n",
       "       -1.98766007e-01,  1.32413452e-01, -4.58112407e-01, -1.39323886e-01,\n",
       "       -6.19269318e-02, -6.07704602e-01, -4.67427574e-02, -4.83699658e-01,\n",
       "       -5.89305603e-01,  2.94362224e-01,  3.11525192e-01,  1.54079833e-01,\n",
       "       -3.49568650e-01, -5.56552428e-01,  3.00239515e-02, -2.14069158e-01,\n",
       "       -5.32165125e-01, -1.59047894e-01, -6.19769218e-01,  2.54989200e-01])"
      ]
     },
     "execution_count": 18,
     "metadata": {},
     "output_type": "execute_result"
    }
   ],
   "source": [
    "w"
   ]
  },
  {
   "cell_type": "code",
   "execution_count": 19,
   "metadata": {},
   "outputs": [
    {
     "name": "stderr",
     "output_type": "stream",
     "text": [
      "/home/pehcy/projects/binoculars/src/notebook/../utils.py:5: RuntimeWarning: overflow encountered in exp\n",
      "  g = 1 / (1 + np.exp(np.negative(z)))\n"
     ]
    },
    {
     "data": {
      "image/png": "[encoded data removed]",
      "text/plain": [
       "<Figure size 600x600 with 1 Axes>"
      ]
     },
     "metadata": {},
     "output_type": "display_data"
    }
   ],
   "source": [
    "is_positive = train[train['direction'] > 0]\n",
    "is_negative = train[train['direction'] <= 0]\n",
    "\n",
    "fig, ax = plt.subplots(figsize=(6, 6))\n",
    "ax.plot(z_scaler(is_positive['lag_1']), z_scaler(is_positive['lag_2']), 'k+')\n",
    "ax.plot(z_scaler(is_negative['lag_1']), z_scaler(is_negative['lag_2']), 'mx')\n",
    "plt.xlabel('lag 1')\n",
    "plt.ylabel('lag 2')\n",
    "plot_decision_boundary(ax, w, b, z_scaler(X_mapped), y_train)"
   ]
  }
 ],
 "metadata": {
  "kernelspec": {
   "display_name": "Python 3.9.13 ('binance')",
   "language": "python",
   "name": "python3"
  },
  "language_info": {
   "codemirror_mode": {
    "name": "ipython",
    "version": 3
   },
   "file_extension": ".py",
   "mimetype": "text/x-python",
   "name": "python",
   "nbconvert_exporter": "python",
   "pygments_lexer": "ipython3",
   "version": "3.9.13"
  },
  "orig_nbformat": 4,
  "vscode": {
   "interpreter": {
    "hash": "df94e83755ed8904cc98339ae40914a9dd1126f7d89568b03f0ea387b2f79acd"
   }
  }
 },
 "nbformat": 4,
 "nbformat_minor": 2
}
