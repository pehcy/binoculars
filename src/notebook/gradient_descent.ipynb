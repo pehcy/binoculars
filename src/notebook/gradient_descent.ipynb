{
 "cells": [
  {
   "cell_type": "code",
   "execution_count": 16,
   "metadata": {},
   "outputs": [],
   "source": [
    "import pandas as pd\n",
    "import numpy as np\n",
    "import matplotlib.pyplot as plt\n",
    "import math"
   ]
  },
  {
   "cell_type": "code",
   "execution_count": 17,
   "metadata": {},
   "outputs": [
    {
     "data": {
      "text/html": [
       "<div>\n",
       "<style scoped>\n",
       "    .dataframe tbody tr th:only-of-type {\n",
       "        vertical-align: middle;\n",
       "    }\n",
       "\n",
       "    .dataframe tbody tr th {\n",
       "        vertical-align: top;\n",
       "    }\n",
       "\n",
       "    .dataframe thead th {\n",
       "        text-align: right;\n",
       "    }\n",
       "</style>\n",
       "<table border=\"1\" class=\"dataframe\">\n",
       "  <thead>\n",
       "    <tr style=\"text-align: right;\">\n",
       "      <th></th>\n",
       "      <th>Opentime</th>\n",
       "      <th>Open</th>\n",
       "      <th>High</th>\n",
       "      <th>Low</th>\n",
       "      <th>Close</th>\n",
       "      <th>Volume</th>\n",
       "      <th>Closetime</th>\n",
       "      <th>Quote asset volume</th>\n",
       "      <th>Number of trades</th>\n",
       "      <th>Taker by base</th>\n",
       "      <th>Taker buy quote</th>\n",
       "      <th>Ignore</th>\n",
       "    </tr>\n",
       "  </thead>\n",
       "  <tbody>\n",
       "    <tr>\n",
       "      <th>0</th>\n",
       "      <td>2022-01-01 08:00:00</td>\n",
       "      <td>46216.93</td>\n",
       "      <td>47954.63</td>\n",
       "      <td>46208.37</td>\n",
       "      <td>47722.65</td>\n",
       "      <td>19604.46325</td>\n",
       "      <td>1641081599999</td>\n",
       "      <td>9.241552e+08</td>\n",
       "      <td>714899</td>\n",
       "      <td>9942.36679</td>\n",
       "      <td>4.687387e+08</td>\n",
       "      <td>0</td>\n",
       "    </tr>\n",
       "    <tr>\n",
       "      <th>1</th>\n",
       "      <td>2022-01-02 08:00:00</td>\n",
       "      <td>47722.66</td>\n",
       "      <td>47990.00</td>\n",
       "      <td>46654.00</td>\n",
       "      <td>47286.18</td>\n",
       "      <td>18340.46040</td>\n",
       "      <td>1641167999999</td>\n",
       "      <td>8.666110e+08</td>\n",
       "      <td>709624</td>\n",
       "      <td>9166.46954</td>\n",
       "      <td>4.331824e+08</td>\n",
       "      <td>0</td>\n",
       "    </tr>\n",
       "    <tr>\n",
       "      <th>2</th>\n",
       "      <td>2022-01-03 08:00:00</td>\n",
       "      <td>47286.18</td>\n",
       "      <td>47570.00</td>\n",
       "      <td>45696.00</td>\n",
       "      <td>46446.10</td>\n",
       "      <td>27662.07710</td>\n",
       "      <td>1641254399999</td>\n",
       "      <td>1.292204e+09</td>\n",
       "      <td>885624</td>\n",
       "      <td>13524.76045</td>\n",
       "      <td>6.318794e+08</td>\n",
       "      <td>0</td>\n",
       "    </tr>\n",
       "    <tr>\n",
       "      <th>3</th>\n",
       "      <td>2022-01-04 08:00:00</td>\n",
       "      <td>46446.10</td>\n",
       "      <td>47557.54</td>\n",
       "      <td>45500.00</td>\n",
       "      <td>45832.01</td>\n",
       "      <td>35491.41360</td>\n",
       "      <td>1641340799999</td>\n",
       "      <td>1.649170e+09</td>\n",
       "      <td>1021815</td>\n",
       "      <td>17689.26808</td>\n",
       "      <td>8.217255e+08</td>\n",
       "      <td>0</td>\n",
       "    </tr>\n",
       "    <tr>\n",
       "      <th>4</th>\n",
       "      <td>2022-01-05 08:00:00</td>\n",
       "      <td>45832.01</td>\n",
       "      <td>47070.00</td>\n",
       "      <td>42500.00</td>\n",
       "      <td>43451.13</td>\n",
       "      <td>51784.11857</td>\n",
       "      <td>1641427199999</td>\n",
       "      <td>2.334289e+09</td>\n",
       "      <td>1478532</td>\n",
       "      <td>23552.99460</td>\n",
       "      <td>1.063287e+09</td>\n",
       "      <td>0</td>\n",
       "    </tr>\n",
       "  </tbody>\n",
       "</table>\n",
       "</div>"
      ],
      "text/plain": [
       "              Opentime      Open      High       Low     Close       Volume  \\\n",
       "0  2022-01-01 08:00:00  46216.93  47954.63  46208.37  47722.65  19604.46325   \n",
       "1  2022-01-02 08:00:00  47722.66  47990.00  46654.00  47286.18  18340.46040   \n",
       "2  2022-01-03 08:00:00  47286.18  47570.00  45696.00  46446.10  27662.07710   \n",
       "3  2022-01-04 08:00:00  46446.10  47557.54  45500.00  45832.01  35491.41360   \n",
       "4  2022-01-05 08:00:00  45832.01  47070.00  42500.00  43451.13  51784.11857   \n",
       "\n",
       "       Closetime  Quote asset volume  Number of trades  Taker by base  \\\n",
       "0  1641081599999        9.241552e+08            714899     9942.36679   \n",
       "1  1641167999999        8.666110e+08            709624     9166.46954   \n",
       "2  1641254399999        1.292204e+09            885624    13524.76045   \n",
       "3  1641340799999        1.649170e+09           1021815    17689.26808   \n",
       "4  1641427199999        2.334289e+09           1478532    23552.99460   \n",
       "\n",
       "   Taker buy quote  Ignore  \n",
       "0     4.687387e+08       0  \n",
       "1     4.331824e+08       0  \n",
       "2     6.318794e+08       0  \n",
       "3     8.217255e+08       0  \n",
       "4     1.063287e+09       0  "
      ]
     },
     "execution_count": 17,
     "metadata": {},
     "output_type": "execute_result"
    }
   ],
   "source": [
    "df = pd.read_csv(\"../data/btcusdt.csv\")\n",
    "df.head()"
   ]
  },
  {
   "cell_type": "markdown",
   "metadata": {},
   "source": [
    "The trading strategy is simple:\n",
    "- Long the stock if the shorter SMA > longer SMA\n",
    "- Short  the stock if the shorter SMA < longer SMA"
   ]
  },
  {
   "cell_type": "code",
   "execution_count": 18,
   "metadata": {},
   "outputs": [],
   "source": [
    "short_sma = 30\n",
    "long_sma = 240"
   ]
  },
  {
   "cell_type": "code",
   "execution_count": 19,
   "metadata": {},
   "outputs": [
    {
     "data": {
      "text/html": [
       "<div>\n",
       "<style scoped>\n",
       "    .dataframe tbody tr th:only-of-type {\n",
       "        vertical-align: middle;\n",
       "    }\n",
       "\n",
       "    .dataframe tbody tr th {\n",
       "        vertical-align: top;\n",
       "    }\n",
       "\n",
       "    .dataframe thead th {\n",
       "        text-align: right;\n",
       "    }\n",
       "</style>\n",
       "<table border=\"1\" class=\"dataframe\">\n",
       "  <thead>\n",
       "    <tr style=\"text-align: right;\">\n",
       "      <th></th>\n",
       "      <th>Opentime</th>\n",
       "      <th>Open</th>\n",
       "      <th>High</th>\n",
       "      <th>Low</th>\n",
       "      <th>Close</th>\n",
       "      <th>Volume</th>\n",
       "      <th>Closetime</th>\n",
       "      <th>Quote asset volume</th>\n",
       "      <th>Number of trades</th>\n",
       "      <th>Taker by base</th>\n",
       "      <th>Taker buy quote</th>\n",
       "      <th>Ignore</th>\n",
       "      <th>SMA1</th>\n",
       "      <th>SMA2</th>\n",
       "    </tr>\n",
       "  </thead>\n",
       "  <tbody>\n",
       "  </tbody>\n",
       "</table>\n",
       "</div>"
      ],
      "text/plain": [
       "Empty DataFrame\n",
       "Columns: [Opentime, Open, High, Low, Close, Volume, Closetime, Quote asset volume, Number of trades, Taker by base, Taker buy quote, Ignore, SMA1, SMA2]\n",
       "Index: []"
      ]
     },
     "execution_count": 19,
     "metadata": {},
     "output_type": "execute_result"
    }
   ],
   "source": [
    "df['SMA1'] = df['Close'].rolling(short_sma).mean()\n",
    "df['SMA2'] = df['Close'].rolling(long_sma).mean()\n",
    "# drop the rows with NaN entries\n",
    "df.dropna(inplace=True)\n",
    "df.head()"
   ]
  },
  {
   "cell_type": "code",
   "execution_count": 20,
   "metadata": {},
   "outputs": [],
   "source": [
    "df['Position'] = np.where(df['SMA1'] > df['SMA2'], 1, -1)"
   ]
  },
  {
   "cell_type": "code",
   "execution_count": 21,
   "metadata": {},
   "outputs": [
    {
     "data": {
      "text/html": [
       "<div>\n",
       "<style scoped>\n",
       "    .dataframe tbody tr th:only-of-type {\n",
       "        vertical-align: middle;\n",
       "    }\n",
       "\n",
       "    .dataframe tbody tr th {\n",
       "        vertical-align: top;\n",
       "    }\n",
       "\n",
       "    .dataframe thead th {\n",
       "        text-align: right;\n",
       "    }\n",
       "</style>\n",
       "<table border=\"1\" class=\"dataframe\">\n",
       "  <thead>\n",
       "    <tr style=\"text-align: right;\">\n",
       "      <th></th>\n",
       "      <th>Opentime</th>\n",
       "      <th>Open</th>\n",
       "      <th>High</th>\n",
       "      <th>Low</th>\n",
       "      <th>Close</th>\n",
       "      <th>Volume</th>\n",
       "      <th>Closetime</th>\n",
       "      <th>Quote asset volume</th>\n",
       "      <th>Number of trades</th>\n",
       "      <th>Taker by base</th>\n",
       "      <th>Taker buy quote</th>\n",
       "      <th>Ignore</th>\n",
       "      <th>SMA1</th>\n",
       "      <th>SMA2</th>\n",
       "      <th>Position</th>\n",
       "    </tr>\n",
       "  </thead>\n",
       "  <tbody>\n",
       "  </tbody>\n",
       "</table>\n",
       "</div>"
      ],
      "text/plain": [
       "Empty DataFrame\n",
       "Columns: [Opentime, Open, High, Low, Close, Volume, Closetime, Quote asset volume, Number of trades, Taker by base, Taker buy quote, Ignore, SMA1, SMA2, Position]\n",
       "Index: []"
      ]
     },
     "execution_count": 21,
     "metadata": {},
     "output_type": "execute_result"
    }
   ],
   "source": [
    "df.head()"
   ]
  },
  {
   "cell_type": "code",
   "execution_count": 22,
   "metadata": {},
   "outputs": [
    {
     "data": {
      "image/png": "[encoded data removed]",
      "text/plain": [
       "<Figure size 1000x600 with 1 Axes>"
      ]
     },
     "metadata": {},
     "output_type": "display_data"
    }
   ],
   "source": [
    "ax = df['Position'].plot(figsize=(10,6))"
   ]
  },
  {
   "cell_type": "markdown",
   "metadata": {},
   "source": [
    "## Machine Learning Approach: Classification\n",
    "\n",
    "Another strategy is that we compute the log returns for each consecutive timestamps."
   ]
  },
  {
   "cell_type": "code",
   "execution_count": 23,
   "metadata": {},
   "outputs": [
    {
     "data": {
      "text/html": [
       "<div>\n",
       "<style scoped>\n",
       "    .dataframe tbody tr th:only-of-type {\n",
       "        vertical-align: middle;\n",
       "    }\n",
       "\n",
       "    .dataframe tbody tr th {\n",
       "        vertical-align: top;\n",
       "    }\n",
       "\n",
       "    .dataframe thead th {\n",
       "        text-align: right;\n",
       "    }\n",
       "</style>\n",
       "<table border=\"1\" class=\"dataframe\">\n",
       "  <thead>\n",
       "    <tr style=\"text-align: right;\">\n",
       "      <th></th>\n",
       "      <th>Opentime</th>\n",
       "      <th>Open</th>\n",
       "      <th>High</th>\n",
       "      <th>Low</th>\n",
       "      <th>Close</th>\n",
       "      <th>Volume</th>\n",
       "      <th>Closetime</th>\n",
       "      <th>Quote asset volume</th>\n",
       "      <th>Number of trades</th>\n",
       "      <th>Taker by base</th>\n",
       "      <th>Taker buy quote</th>\n",
       "      <th>Ignore</th>\n",
       "    </tr>\n",
       "  </thead>\n",
       "  <tbody>\n",
       "    <tr>\n",
       "      <th>0</th>\n",
       "      <td>2022-01-01 08:00:00</td>\n",
       "      <td>46216.93</td>\n",
       "      <td>47954.63</td>\n",
       "      <td>46208.37</td>\n",
       "      <td>47722.65</td>\n",
       "      <td>19604.46325</td>\n",
       "      <td>1641081599999</td>\n",
       "      <td>9.241552e+08</td>\n",
       "      <td>714899</td>\n",
       "      <td>9942.36679</td>\n",
       "      <td>4.687387e+08</td>\n",
       "      <td>0</td>\n",
       "    </tr>\n",
       "    <tr>\n",
       "      <th>1</th>\n",
       "      <td>2022-01-02 08:00:00</td>\n",
       "      <td>47722.66</td>\n",
       "      <td>47990.00</td>\n",
       "      <td>46654.00</td>\n",
       "      <td>47286.18</td>\n",
       "      <td>18340.46040</td>\n",
       "      <td>1641167999999</td>\n",
       "      <td>8.666110e+08</td>\n",
       "      <td>709624</td>\n",
       "      <td>9166.46954</td>\n",
       "      <td>4.331824e+08</td>\n",
       "      <td>0</td>\n",
       "    </tr>\n",
       "    <tr>\n",
       "      <th>2</th>\n",
       "      <td>2022-01-03 08:00:00</td>\n",
       "      <td>47286.18</td>\n",
       "      <td>47570.00</td>\n",
       "      <td>45696.00</td>\n",
       "      <td>46446.10</td>\n",
       "      <td>27662.07710</td>\n",
       "      <td>1641254399999</td>\n",
       "      <td>1.292204e+09</td>\n",
       "      <td>885624</td>\n",
       "      <td>13524.76045</td>\n",
       "      <td>6.318794e+08</td>\n",
       "      <td>0</td>\n",
       "    </tr>\n",
       "    <tr>\n",
       "      <th>3</th>\n",
       "      <td>2022-01-04 08:00:00</td>\n",
       "      <td>46446.10</td>\n",
       "      <td>47557.54</td>\n",
       "      <td>45500.00</td>\n",
       "      <td>45832.01</td>\n",
       "      <td>35491.41360</td>\n",
       "      <td>1641340799999</td>\n",
       "      <td>1.649170e+09</td>\n",
       "      <td>1021815</td>\n",
       "      <td>17689.26808</td>\n",
       "      <td>8.217255e+08</td>\n",
       "      <td>0</td>\n",
       "    </tr>\n",
       "    <tr>\n",
       "      <th>4</th>\n",
       "      <td>2022-01-05 08:00:00</td>\n",
       "      <td>45832.01</td>\n",
       "      <td>47070.00</td>\n",
       "      <td>42500.00</td>\n",
       "      <td>43451.13</td>\n",
       "      <td>51784.11857</td>\n",
       "      <td>1641427199999</td>\n",
       "      <td>2.334289e+09</td>\n",
       "      <td>1478532</td>\n",
       "      <td>23552.99460</td>\n",
       "      <td>1.063287e+09</td>\n",
       "      <td>0</td>\n",
       "    </tr>\n",
       "  </tbody>\n",
       "</table>\n",
       "</div>"
      ],
      "text/plain": [
       "              Opentime      Open      High       Low     Close       Volume  \\\n",
       "0  2022-01-01 08:00:00  46216.93  47954.63  46208.37  47722.65  19604.46325   \n",
       "1  2022-01-02 08:00:00  47722.66  47990.00  46654.00  47286.18  18340.46040   \n",
       "2  2022-01-03 08:00:00  47286.18  47570.00  45696.00  46446.10  27662.07710   \n",
       "3  2022-01-04 08:00:00  46446.10  47557.54  45500.00  45832.01  35491.41360   \n",
       "4  2022-01-05 08:00:00  45832.01  47070.00  42500.00  43451.13  51784.11857   \n",
       "\n",
       "       Closetime  Quote asset volume  Number of trades  Taker by base  \\\n",
       "0  1641081599999        9.241552e+08            714899     9942.36679   \n",
       "1  1641167999999        8.666110e+08            709624     9166.46954   \n",
       "2  1641254399999        1.292204e+09            885624    13524.76045   \n",
       "3  1641340799999        1.649170e+09           1021815    17689.26808   \n",
       "4  1641427199999        2.334289e+09           1478532    23552.99460   \n",
       "\n",
       "   Taker buy quote  Ignore  \n",
       "0     4.687387e+08       0  \n",
       "1     4.331824e+08       0  \n",
       "2     6.318794e+08       0  \n",
       "3     8.217255e+08       0  \n",
       "4     1.063287e+09       0  "
      ]
     },
     "execution_count": 23,
     "metadata": {},
     "output_type": "execute_result"
    }
   ],
   "source": [
    "df = pd.read_csv(\"../data/btcusdt.csv\")\n",
    "df.head()"
   ]
  },
  {
   "cell_type": "code",
   "execution_count": 24,
   "metadata": {},
   "outputs": [],
   "source": [
    "df['returns'] = np.log(df['Close'] / df['Close'].shift(1))\n",
    "df.dropna(inplace=True)\n",
    "df['direction'] = np.sign(df['returns']).astype(int)"
   ]
  },
  {
   "cell_type": "code",
   "execution_count": 25,
   "metadata": {},
   "outputs": [],
   "source": [
    "def create_lags(data):\n",
    "    global cols\n",
    "    cols = []\n",
    "    for lag in range(1, 3):\n",
    "        col = 'lag_{}'.format(lag)\n",
    "        data[col] = data['returns'].shift(lag)\n",
    "        cols.append(col)\n",
    "    print('The following columns have been added: \\n')\n",
    "    print(cols)"
   ]
  },
  {
   "cell_type": "code",
   "execution_count": 26,
   "metadata": {},
   "outputs": [
    {
     "name": "stdout",
     "output_type": "stream",
     "text": [
      "The following columns have been added: \n",
      "\n",
      "['lag_1', 'lag_2']\n"
     ]
    }
   ],
   "source": [
    "create_lags(df)"
   ]
  },
  {
   "cell_type": "code",
   "execution_count": 27,
   "metadata": {},
   "outputs": [],
   "source": [
    "df.dropna(inplace=True)"
   ]
  },
  {
   "cell_type": "code",
   "execution_count": 28,
   "metadata": {},
   "outputs": [],
   "source": [
    "split = int(len(df) * 0.80)"
   ]
  },
  {
   "cell_type": "code",
   "execution_count": 29,
   "metadata": {},
   "outputs": [
    {
     "data": {
      "text/plain": [
       "(168, 16)"
      ]
     },
     "execution_count": 29,
     "metadata": {},
     "output_type": "execute_result"
    }
   ],
   "source": [
    "train = df.iloc[:split].copy()\n",
    "train.shape"
   ]
  },
  {
   "cell_type": "code",
   "execution_count": 30,
   "metadata": {},
   "outputs": [
    {
     "data": {
      "image/png": "[encoded data removed]",
      "text/plain": [
       "<Figure size 600x600 with 1 Axes>"
      ]
     },
     "metadata": {},
     "output_type": "display_data"
    }
   ],
   "source": [
    "import seaborn as sns\n",
    "import matplotlib.pyplot as plt\n",
    "\n",
    "fig,ax = plt.subplots(1,1,figsize=(6,6))\n",
    "fig = sns.scatterplot(data=train, x=\"lag_1\", y=\"lag_2\", hue=\"direction\", style=\"direction\", palette=\"deep\")"
   ]
  },
  {
   "cell_type": "markdown",
   "metadata": {},
   "source": [
    "For our logistic regression model, \n",
    "\n",
    "$$\n",
    "z = \\overrightarrow{w} \\cdot \\overrightarrow{x} + b\n",
    "$$"
   ]
  },
  {
   "cell_type": "markdown",
   "metadata": {},
   "source": [
    "From the raw features data, we transformed into a polynomial with terms $x_1$ and $x_2$, \n",
    "which represents `lag_1` and `lag_2` respectively.\n",
    "\n",
    "$$\n",
    "y = w_1 x_1 + w_2 x_2 + w_3 x_1^2 + \\cdots + w_n x_1^7 x_2^8\n",
    "$$"
   ]
  },
  {
   "cell_type": "code",
   "execution_count": 31,
   "metadata": {},
   "outputs": [
    {
     "data": {
      "text/plain": [
       "array([[-1.79255747e-02, -9.18805274e-03,  3.21326229e-04, ...,\n",
       "         1.93324571e-16,  9.90917381e-17,  5.07911255e-17],\n",
       "       [-1.33097452e-02, -1.79255747e-02,  1.77149317e-04, ...,\n",
       "         5.87730212e-15,  7.91555487e-15,  1.06606752e-14],\n",
       "       [-5.33458970e-02, -1.33097452e-02,  2.84578473e-03, ...,\n",
       "         1.58205104e-14,  3.94720071e-15,  9.84822426e-16],\n",
       "       ...,\n",
       "       [ 3.30314965e-03, -1.01630178e-01,  1.09107976e-05, ...,\n",
       "         1.20224402e-11, -3.69902325e-10,  1.13810282e-08],\n",
       "       [-7.60018363e-02,  3.30314965e-03,  5.77627913e-03, ...,\n",
       "         7.50270161e-18, -3.26078256e-19,  1.41718323e-20],\n",
       "       [ 8.11277149e-02, -7.60018363e-02,  6.58170613e-03, ...,\n",
       "         1.26847818e-09, -1.18833214e-09,  1.11324995e-09]])"
      ]
     },
     "execution_count": 31,
     "metadata": {},
     "output_type": "execute_result"
    }
   ],
   "source": [
    "import sys\n",
    "sys.path.append('../')\n",
    "\n",
    "from utils import *\n",
    "\n",
    "X_mapped = map_feature(train.lag_1, train.lag_2)\n",
    "X_mapped"
   ]
  },
  {
   "cell_type": "code",
   "execution_count": 32,
   "metadata": {},
   "outputs": [
    {
     "name": "stdout",
     "output_type": "stream",
     "text": [
      "Iteration    0: Cost     1.48   \n",
      "Iteration 1000: Cost     0.02   \n",
      "Iteration 2000: Cost    -0.11   \n",
      "Iteration 3000: Cost    -0.18   \n",
      "Iteration 4000: Cost    -0.24   \n",
      "Iteration 5000: Cost    -0.29   \n",
      "Iteration 6000: Cost    -0.35   \n",
      "Iteration 7000: Cost    -0.39   \n",
      "Iteration 8000: Cost    -0.44   \n",
      "Iteration 9000: Cost    -0.49   \n",
      "Iteration 9999: Cost    -0.54   \n"
     ]
    }
   ],
   "source": [
    "# Initialize fitting parameters\n",
    "np.random.seed(42)\n",
    "initial_w = np.random.rand(X_mapped.shape[1])-0.5\n",
    "initial_b = 1.\n",
    "\n",
    "# Set regularization parameter lambda_ to 1 (you can try varying this)\n",
    "lambda_ = 0.01;                                          \n",
    "# Some gradient descent settings\n",
    "iterations = 10000\n",
    "alpha = 0.01\n",
    "\n",
    "y_train = train.direction.to_numpy()\n",
    "\n",
    "w,b, J_history,_ = gradient_descent(z_scaler(X_mapped), y_train, initial_w, initial_b, \n",
    "                                    compute_cost_reg, compute_gradient_reg, \n",
    "                                    alpha, iterations, lambda_)"
   ]
  },
  {
   "cell_type": "markdown",
   "metadata": {},
   "source": [
    "once computed, the fitting parameters are"
   ]
  },
  {
   "cell_type": "code",
   "execution_count": 33,
   "metadata": {},
   "outputs": [
    {
     "data": {
      "text/plain": [
       "array([-1.07611860e+00,  7.80806691e-02, -4.01010015e+00, -2.34008275e-01,\n",
       "       -2.01928824e+00, -6.38440527e-02, -5.09264964e-01,  8.84487895e-02,\n",
       "       -3.65367753e-01, -4.09090716e-02, -6.90321618e-01,  2.71667591e-01,\n",
       "        1.60114747e-01, -4.54801198e-01, -4.86556304e-01, -4.94972652e-01,\n",
       "       -3.75964720e-01, -1.56863488e-01, -2.52468449e-01, -4.00666618e-01,\n",
       "       -7.18957008e-02, -5.43446639e-01, -3.90239113e-01, -3.15798473e-01,\n",
       "       -2.26088306e-01,  1.03280739e-01, -4.81458441e-01, -1.67465885e-01,\n",
       "       -8.95422312e-02, -6.35563521e-01, -7.45047482e-02, -5.11538802e-01,\n",
       "       -6.17019047e-01,  2.66765939e-01,  2.83278603e-01,  1.26280267e-01,\n",
       "       -3.77479435e-01, -5.84405595e-01,  2.16019382e-03, -2.41918443e-01,\n",
       "       -5.60031452e-01, -1.86892929e-01, -6.47676880e-01,  2.27284034e-01])"
      ]
     },
     "execution_count": 33,
     "metadata": {},
     "output_type": "execute_result"
    }
   ],
   "source": [
    "w"
   ]
  },
  {
   "cell_type": "code",
   "execution_count": 34,
   "metadata": {},
   "outputs": [
    {
     "name": "stderr",
     "output_type": "stream",
     "text": [
      "/home/pehcy/projects/binoculars/src/notebook/../utils.py:5: RuntimeWarning: overflow encountered in exp\n",
      "  g = 1 / (1 + np.exp(np.negative(z)))\n"
     ]
    },
    {
     "data": {
      "image/png": "[encoded data removed]",
      "text/plain": [
       "<Figure size 600x600 with 1 Axes>"
      ]
     },
     "metadata": {},
     "output_type": "display_data"
    }
   ],
   "source": [
    "is_positive = train[train['direction'] > 0]\n",
    "is_negative = train[train['direction'] <= 0]\n",
    "\n",
    "fig, ax = plt.subplots(figsize=(6, 6))\n",
    "ax.plot(z_scaler(is_positive['lag_1']), z_scaler(is_positive['lag_2']), 'k+')\n",
    "ax.plot(z_scaler(is_negative['lag_1']), z_scaler(is_negative['lag_2']), 'mx')\n",
    "plt.xlabel('lag 1')\n",
    "plt.ylabel('lag 2')\n",
    "plot_decision_boundary(ax, w, b, z_scaler(X_mapped), y_train)"
   ]
  }
 ],
 "metadata": {
  "kernelspec": {
   "display_name": "Python 3.9.13 ('binance')",
   "language": "python",
   "name": "python3"
  },
  "language_info": {
   "codemirror_mode": {
    "name": "ipython",
    "version": 3
   },
   "file_extension": ".py",
   "mimetype": "text/x-python",
   "name": "python",
   "nbconvert_exporter": "python",
   "pygments_lexer": "ipython3",
   "version": "3.9.13"
  },
  "orig_nbformat": 4,
  "vscode": {
   "interpreter": {
    "hash": "df94e83755ed8904cc98339ae40914a9dd1126f7d89568b03f0ea387b2f79acd"
   }
  }
 },
 "nbformat": 4,
 "nbformat_minor": 2
}
