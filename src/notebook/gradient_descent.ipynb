{
 "cells": [
  {
   "cell_type": "code",
   "execution_count": 20,
   "metadata": {},
   "outputs": [],
   "source": [
    "import pandas as pd\n",
    "import numpy as np\n",
    "import matplotlib.pyplot as plt\n",
    "import math"
   ]
  },
  {
   "cell_type": "code",
   "execution_count": 21,
   "metadata": {},
   "outputs": [
    {
     "data": {
      "text/html": [
       "<div>\n",
       "<style scoped>\n",
       "    .dataframe tbody tr th:only-of-type {\n",
       "        vertical-align: middle;\n",
       "    }\n",
       "\n",
       "    .dataframe tbody tr th {\n",
       "        vertical-align: top;\n",
       "    }\n",
       "\n",
       "    .dataframe thead th {\n",
       "        text-align: right;\n",
       "    }\n",
       "</style>\n",
       "<table border=\"1\" class=\"dataframe\">\n",
       "  <thead>\n",
       "    <tr style=\"text-align: right;\">\n",
       "      <th></th>\n",
       "      <th>Opentime</th>\n",
       "      <th>Open</th>\n",
       "      <th>High</th>\n",
       "      <th>Low</th>\n",
       "      <th>Close</th>\n",
       "      <th>Volume</th>\n",
       "      <th>Closetime</th>\n",
       "      <th>Quote asset volume</th>\n",
       "      <th>Number of trades</th>\n",
       "      <th>Taker by base</th>\n",
       "      <th>Taker buy quote</th>\n",
       "      <th>Ignore</th>\n",
       "    </tr>\n",
       "  </thead>\n",
       "  <tbody>\n",
       "    <tr>\n",
       "      <th>0</th>\n",
       "      <td>2021-11-01 08:00:00</td>\n",
       "      <td>1.965</td>\n",
       "      <td>2.019</td>\n",
       "      <td>1.911</td>\n",
       "      <td>1.949</td>\n",
       "      <td>144061135.4</td>\n",
       "      <td>1635811199999</td>\n",
       "      <td>2.824457e+08</td>\n",
       "      <td>443944</td>\n",
       "      <td>71078236.0</td>\n",
       "      <td>1.394258e+08</td>\n",
       "      <td>0</td>\n",
       "    </tr>\n",
       "    <tr>\n",
       "      <th>1</th>\n",
       "      <td>2021-11-02 08:00:00</td>\n",
       "      <td>1.949</td>\n",
       "      <td>1.996</td>\n",
       "      <td>1.933</td>\n",
       "      <td>1.971</td>\n",
       "      <td>124263204.0</td>\n",
       "      <td>1635897599999</td>\n",
       "      <td>2.446304e+08</td>\n",
       "      <td>382592</td>\n",
       "      <td>64339347.3</td>\n",
       "      <td>1.267002e+08</td>\n",
       "      <td>0</td>\n",
       "    </tr>\n",
       "    <tr>\n",
       "      <th>2</th>\n",
       "      <td>2021-11-03 08:00:00</td>\n",
       "      <td>1.971</td>\n",
       "      <td>2.144</td>\n",
       "      <td>1.950</td>\n",
       "      <td>2.063</td>\n",
       "      <td>335561983.7</td>\n",
       "      <td>1635983999999</td>\n",
       "      <td>6.936646e+08</td>\n",
       "      <td>1237122</td>\n",
       "      <td>167743048.3</td>\n",
       "      <td>3.467647e+08</td>\n",
       "      <td>0</td>\n",
       "    </tr>\n",
       "    <tr>\n",
       "      <th>3</th>\n",
       "      <td>2021-11-04 08:00:00</td>\n",
       "      <td>2.063</td>\n",
       "      <td>2.103</td>\n",
       "      <td>1.933</td>\n",
       "      <td>1.983</td>\n",
       "      <td>174549100.4</td>\n",
       "      <td>1636070399999</td>\n",
       "      <td>3.509825e+08</td>\n",
       "      <td>586577</td>\n",
       "      <td>80789835.4</td>\n",
       "      <td>1.624612e+08</td>\n",
       "      <td>0</td>\n",
       "    </tr>\n",
       "    <tr>\n",
       "      <th>4</th>\n",
       "      <td>2021-11-05 08:00:00</td>\n",
       "      <td>1.983</td>\n",
       "      <td>2.017</td>\n",
       "      <td>1.959</td>\n",
       "      <td>1.982</td>\n",
       "      <td>108180863.7</td>\n",
       "      <td>1636156799999</td>\n",
       "      <td>2.150281e+08</td>\n",
       "      <td>346939</td>\n",
       "      <td>51873631.3</td>\n",
       "      <td>1.030921e+08</td>\n",
       "      <td>0</td>\n",
       "    </tr>\n",
       "  </tbody>\n",
       "</table>\n",
       "</div>"
      ],
      "text/plain": [
       "              Opentime   Open   High    Low  Close       Volume  \\\n",
       "0  2021-11-01 08:00:00  1.965  2.019  1.911  1.949  144061135.4   \n",
       "1  2021-11-02 08:00:00  1.949  1.996  1.933  1.971  124263204.0   \n",
       "2  2021-11-03 08:00:00  1.971  2.144  1.950  2.063  335561983.7   \n",
       "3  2021-11-04 08:00:00  2.063  2.103  1.933  1.983  174549100.4   \n",
       "4  2021-11-05 08:00:00  1.983  2.017  1.959  1.982  108180863.7   \n",
       "\n",
       "       Closetime  Quote asset volume  Number of trades  Taker by base  \\\n",
       "0  1635811199999        2.824457e+08            443944     71078236.0   \n",
       "1  1635897599999        2.446304e+08            382592     64339347.3   \n",
       "2  1635983999999        6.936646e+08           1237122    167743048.3   \n",
       "3  1636070399999        3.509825e+08            586577     80789835.4   \n",
       "4  1636156799999        2.150281e+08            346939     51873631.3   \n",
       "\n",
       "   Taker buy quote  Ignore  \n",
       "0     1.394258e+08       0  \n",
       "1     1.267002e+08       0  \n",
       "2     3.467647e+08       0  \n",
       "3     1.624612e+08       0  \n",
       "4     1.030921e+08       0  "
      ]
     },
     "execution_count": 21,
     "metadata": {},
     "output_type": "execute_result"
    }
   ],
   "source": [
    "df = pd.read_csv(\"../data/adausdt.csv\")\n",
    "df.head()"
   ]
  },
  {
   "cell_type": "markdown",
   "metadata": {},
   "source": [
    "The trading strategy is simple:\n",
    "- Long the stock if the shorter SMA > longer SMA\n",
    "- Short  the stock if the shorter SMA < longer SMA"
   ]
  },
  {
   "cell_type": "code",
   "execution_count": 22,
   "metadata": {},
   "outputs": [],
   "source": [
    "short_sma = 7\n",
    "long_sma = 14"
   ]
  },
  {
   "cell_type": "code",
   "execution_count": 23,
   "metadata": {},
   "outputs": [
    {
     "data": {
      "text/html": [
       "<div>\n",
       "<style scoped>\n",
       "    .dataframe tbody tr th:only-of-type {\n",
       "        vertical-align: middle;\n",
       "    }\n",
       "\n",
       "    .dataframe tbody tr th {\n",
       "        vertical-align: top;\n",
       "    }\n",
       "\n",
       "    .dataframe thead th {\n",
       "        text-align: right;\n",
       "    }\n",
       "</style>\n",
       "<table border=\"1\" class=\"dataframe\">\n",
       "  <thead>\n",
       "    <tr style=\"text-align: right;\">\n",
       "      <th></th>\n",
       "      <th>Opentime</th>\n",
       "      <th>Open</th>\n",
       "      <th>High</th>\n",
       "      <th>Low</th>\n",
       "      <th>Close</th>\n",
       "      <th>Volume</th>\n",
       "      <th>Closetime</th>\n",
       "      <th>Quote asset volume</th>\n",
       "      <th>Number of trades</th>\n",
       "      <th>Taker by base</th>\n",
       "      <th>Taker buy quote</th>\n",
       "      <th>Ignore</th>\n",
       "      <th>SMA1</th>\n",
       "      <th>SMA2</th>\n",
       "    </tr>\n",
       "  </thead>\n",
       "  <tbody>\n",
       "    <tr>\n",
       "      <th>13</th>\n",
       "      <td>2021-11-14 08:00:00</td>\n",
       "      <td>2.050</td>\n",
       "      <td>2.070</td>\n",
       "      <td>2.009</td>\n",
       "      <td>2.040</td>\n",
       "      <td>5.985961e+07</td>\n",
       "      <td>1636934399999</td>\n",
       "      <td>1.219394e+08</td>\n",
       "      <td>205494</td>\n",
       "      <td>2.758593e+07</td>\n",
       "      <td>5.621922e+07</td>\n",
       "      <td>0</td>\n",
       "      <td>2.100857</td>\n",
       "      <td>2.048571</td>\n",
       "    </tr>\n",
       "    <tr>\n",
       "      <th>14</th>\n",
       "      <td>2021-11-15 08:00:00</td>\n",
       "      <td>2.040</td>\n",
       "      <td>2.095</td>\n",
       "      <td>2.011</td>\n",
       "      <td>2.017</td>\n",
       "      <td>9.307958e+07</td>\n",
       "      <td>1637020799999</td>\n",
       "      <td>1.908580e+08</td>\n",
       "      <td>344074</td>\n",
       "      <td>4.627795e+07</td>\n",
       "      <td>9.494217e+07</td>\n",
       "      <td>0</td>\n",
       "      <td>2.085429</td>\n",
       "      <td>2.053429</td>\n",
       "    </tr>\n",
       "    <tr>\n",
       "      <th>15</th>\n",
       "      <td>2021-11-16 08:00:00</td>\n",
       "      <td>2.018</td>\n",
       "      <td>2.018</td>\n",
       "      <td>1.759</td>\n",
       "      <td>1.874</td>\n",
       "      <td>2.689414e+08</td>\n",
       "      <td>1637107199999</td>\n",
       "      <td>5.118339e+08</td>\n",
       "      <td>915144</td>\n",
       "      <td>1.283961e+08</td>\n",
       "      <td>2.445154e+08</td>\n",
       "      <td>0</td>\n",
       "      <td>2.028857</td>\n",
       "      <td>2.046500</td>\n",
       "    </tr>\n",
       "    <tr>\n",
       "      <th>16</th>\n",
       "      <td>2021-11-17 08:00:00</td>\n",
       "      <td>1.874</td>\n",
       "      <td>1.893</td>\n",
       "      <td>1.795</td>\n",
       "      <td>1.876</td>\n",
       "      <td>2.079852e+08</td>\n",
       "      <td>1637193599999</td>\n",
       "      <td>3.845280e+08</td>\n",
       "      <td>546022</td>\n",
       "      <td>1.046437e+08</td>\n",
       "      <td>1.934498e+08</td>\n",
       "      <td>0</td>\n",
       "      <td>1.997286</td>\n",
       "      <td>2.033143</td>\n",
       "    </tr>\n",
       "    <tr>\n",
       "      <th>17</th>\n",
       "      <td>2021-11-18 08:00:00</td>\n",
       "      <td>1.877</td>\n",
       "      <td>1.907</td>\n",
       "      <td>1.701</td>\n",
       "      <td>1.786</td>\n",
       "      <td>2.217599e+08</td>\n",
       "      <td>1637279999999</td>\n",
       "      <td>4.020876e+08</td>\n",
       "      <td>559018</td>\n",
       "      <td>1.045470e+08</td>\n",
       "      <td>1.896849e+08</td>\n",
       "      <td>0</td>\n",
       "      <td>1.955429</td>\n",
       "      <td>2.019071</td>\n",
       "    </tr>\n",
       "  </tbody>\n",
       "</table>\n",
       "</div>"
      ],
      "text/plain": [
       "               Opentime   Open   High    Low  Close        Volume  \\\n",
       "13  2021-11-14 08:00:00  2.050  2.070  2.009  2.040  5.985961e+07   \n",
       "14  2021-11-15 08:00:00  2.040  2.095  2.011  2.017  9.307958e+07   \n",
       "15  2021-11-16 08:00:00  2.018  2.018  1.759  1.874  2.689414e+08   \n",
       "16  2021-11-17 08:00:00  1.874  1.893  1.795  1.876  2.079852e+08   \n",
       "17  2021-11-18 08:00:00  1.877  1.907  1.701  1.786  2.217599e+08   \n",
       "\n",
       "        Closetime  Quote asset volume  Number of trades  Taker by base  \\\n",
       "13  1636934399999        1.219394e+08            205494   2.758593e+07   \n",
       "14  1637020799999        1.908580e+08            344074   4.627795e+07   \n",
       "15  1637107199999        5.118339e+08            915144   1.283961e+08   \n",
       "16  1637193599999        3.845280e+08            546022   1.046437e+08   \n",
       "17  1637279999999        4.020876e+08            559018   1.045470e+08   \n",
       "\n",
       "    Taker buy quote  Ignore      SMA1      SMA2  \n",
       "13     5.621922e+07       0  2.100857  2.048571  \n",
       "14     9.494217e+07       0  2.085429  2.053429  \n",
       "15     2.445154e+08       0  2.028857  2.046500  \n",
       "16     1.934498e+08       0  1.997286  2.033143  \n",
       "17     1.896849e+08       0  1.955429  2.019071  "
      ]
     },
     "execution_count": 23,
     "metadata": {},
     "output_type": "execute_result"
    }
   ],
   "source": [
    "df['SMA1'] = df['Close'].rolling(short_sma).mean()\n",
    "df['SMA2'] = df['Close'].rolling(long_sma).mean()\n",
    "# drop the rows with NaN entries\n",
    "df.dropna(inplace=True)\n",
    "df.head()"
   ]
  },
  {
   "cell_type": "code",
   "execution_count": 24,
   "metadata": {},
   "outputs": [],
   "source": [
    "df['Position'] = np.where(df['SMA1'] > df['SMA2'], 1, -1)"
   ]
  },
  {
   "cell_type": "code",
   "execution_count": 25,
   "metadata": {},
   "outputs": [
    {
     "data": {
      "text/html": [
       "<div>\n",
       "<style scoped>\n",
       "    .dataframe tbody tr th:only-of-type {\n",
       "        vertical-align: middle;\n",
       "    }\n",
       "\n",
       "    .dataframe tbody tr th {\n",
       "        vertical-align: top;\n",
       "    }\n",
       "\n",
       "    .dataframe thead th {\n",
       "        text-align: right;\n",
       "    }\n",
       "</style>\n",
       "<table border=\"1\" class=\"dataframe\">\n",
       "  <thead>\n",
       "    <tr style=\"text-align: right;\">\n",
       "      <th></th>\n",
       "      <th>Opentime</th>\n",
       "      <th>Open</th>\n",
       "      <th>High</th>\n",
       "      <th>Low</th>\n",
       "      <th>Close</th>\n",
       "      <th>Volume</th>\n",
       "      <th>Closetime</th>\n",
       "      <th>Quote asset volume</th>\n",
       "      <th>Number of trades</th>\n",
       "      <th>Taker by base</th>\n",
       "      <th>Taker buy quote</th>\n",
       "      <th>Ignore</th>\n",
       "      <th>SMA1</th>\n",
       "      <th>SMA2</th>\n",
       "      <th>Position</th>\n",
       "    </tr>\n",
       "  </thead>\n",
       "  <tbody>\n",
       "    <tr>\n",
       "      <th>13</th>\n",
       "      <td>2021-11-14 08:00:00</td>\n",
       "      <td>2.050</td>\n",
       "      <td>2.070</td>\n",
       "      <td>2.009</td>\n",
       "      <td>2.040</td>\n",
       "      <td>5.985961e+07</td>\n",
       "      <td>1636934399999</td>\n",
       "      <td>1.219394e+08</td>\n",
       "      <td>205494</td>\n",
       "      <td>2.758593e+07</td>\n",
       "      <td>5.621922e+07</td>\n",
       "      <td>0</td>\n",
       "      <td>2.100857</td>\n",
       "      <td>2.048571</td>\n",
       "      <td>1</td>\n",
       "    </tr>\n",
       "    <tr>\n",
       "      <th>14</th>\n",
       "      <td>2021-11-15 08:00:00</td>\n",
       "      <td>2.040</td>\n",
       "      <td>2.095</td>\n",
       "      <td>2.011</td>\n",
       "      <td>2.017</td>\n",
       "      <td>9.307958e+07</td>\n",
       "      <td>1637020799999</td>\n",
       "      <td>1.908580e+08</td>\n",
       "      <td>344074</td>\n",
       "      <td>4.627795e+07</td>\n",
       "      <td>9.494217e+07</td>\n",
       "      <td>0</td>\n",
       "      <td>2.085429</td>\n",
       "      <td>2.053429</td>\n",
       "      <td>1</td>\n",
       "    </tr>\n",
       "    <tr>\n",
       "      <th>15</th>\n",
       "      <td>2021-11-16 08:00:00</td>\n",
       "      <td>2.018</td>\n",
       "      <td>2.018</td>\n",
       "      <td>1.759</td>\n",
       "      <td>1.874</td>\n",
       "      <td>2.689414e+08</td>\n",
       "      <td>1637107199999</td>\n",
       "      <td>5.118339e+08</td>\n",
       "      <td>915144</td>\n",
       "      <td>1.283961e+08</td>\n",
       "      <td>2.445154e+08</td>\n",
       "      <td>0</td>\n",
       "      <td>2.028857</td>\n",
       "      <td>2.046500</td>\n",
       "      <td>-1</td>\n",
       "    </tr>\n",
       "    <tr>\n",
       "      <th>16</th>\n",
       "      <td>2021-11-17 08:00:00</td>\n",
       "      <td>1.874</td>\n",
       "      <td>1.893</td>\n",
       "      <td>1.795</td>\n",
       "      <td>1.876</td>\n",
       "      <td>2.079852e+08</td>\n",
       "      <td>1637193599999</td>\n",
       "      <td>3.845280e+08</td>\n",
       "      <td>546022</td>\n",
       "      <td>1.046437e+08</td>\n",
       "      <td>1.934498e+08</td>\n",
       "      <td>0</td>\n",
       "      <td>1.997286</td>\n",
       "      <td>2.033143</td>\n",
       "      <td>-1</td>\n",
       "    </tr>\n",
       "    <tr>\n",
       "      <th>17</th>\n",
       "      <td>2021-11-18 08:00:00</td>\n",
       "      <td>1.877</td>\n",
       "      <td>1.907</td>\n",
       "      <td>1.701</td>\n",
       "      <td>1.786</td>\n",
       "      <td>2.217599e+08</td>\n",
       "      <td>1637279999999</td>\n",
       "      <td>4.020876e+08</td>\n",
       "      <td>559018</td>\n",
       "      <td>1.045470e+08</td>\n",
       "      <td>1.896849e+08</td>\n",
       "      <td>0</td>\n",
       "      <td>1.955429</td>\n",
       "      <td>2.019071</td>\n",
       "      <td>-1</td>\n",
       "    </tr>\n",
       "  </tbody>\n",
       "</table>\n",
       "</div>"
      ],
      "text/plain": [
       "               Opentime   Open   High    Low  Close        Volume  \\\n",
       "13  2021-11-14 08:00:00  2.050  2.070  2.009  2.040  5.985961e+07   \n",
       "14  2021-11-15 08:00:00  2.040  2.095  2.011  2.017  9.307958e+07   \n",
       "15  2021-11-16 08:00:00  2.018  2.018  1.759  1.874  2.689414e+08   \n",
       "16  2021-11-17 08:00:00  1.874  1.893  1.795  1.876  2.079852e+08   \n",
       "17  2021-11-18 08:00:00  1.877  1.907  1.701  1.786  2.217599e+08   \n",
       "\n",
       "        Closetime  Quote asset volume  Number of trades  Taker by base  \\\n",
       "13  1636934399999        1.219394e+08            205494   2.758593e+07   \n",
       "14  1637020799999        1.908580e+08            344074   4.627795e+07   \n",
       "15  1637107199999        5.118339e+08            915144   1.283961e+08   \n",
       "16  1637193599999        3.845280e+08            546022   1.046437e+08   \n",
       "17  1637279999999        4.020876e+08            559018   1.045470e+08   \n",
       "\n",
       "    Taker buy quote  Ignore      SMA1      SMA2  Position  \n",
       "13     5.621922e+07       0  2.100857  2.048571         1  \n",
       "14     9.494217e+07       0  2.085429  2.053429         1  \n",
       "15     2.445154e+08       0  2.028857  2.046500        -1  \n",
       "16     1.934498e+08       0  1.997286  2.033143        -1  \n",
       "17     1.896849e+08       0  1.955429  2.019071        -1  "
      ]
     },
     "execution_count": 25,
     "metadata": {},
     "output_type": "execute_result"
    }
   ],
   "source": [
    "df.head()"
   ]
  },
  {
   "cell_type": "code",
   "execution_count": 26,
   "metadata": {},
   "outputs": [
    {
     "data": {
      "image/png": "[encoded data removed]",
      "text/plain": [
       "<Figure size 800x600 with 1 Axes>"
      ]
     },
     "metadata": {},
     "output_type": "display_data"
    }
   ],
   "source": [
    "ax = df['Position'].plot(figsize=(8,6))"
   ]
  },
  {
   "cell_type": "markdown",
   "metadata": {},
   "source": [
    "## Machine Learning Approach: Classification\n",
    "\n",
    "Another strategy is that we compute the log returns for each consecutive timestamps."
   ]
  },
  {
   "cell_type": "code",
   "execution_count": 27,
   "metadata": {},
   "outputs": [
    {
     "data": {
      "text/html": [
       "<div>\n",
       "<style scoped>\n",
       "    .dataframe tbody tr th:only-of-type {\n",
       "        vertical-align: middle;\n",
       "    }\n",
       "\n",
       "    .dataframe tbody tr th {\n",
       "        vertical-align: top;\n",
       "    }\n",
       "\n",
       "    .dataframe thead th {\n",
       "        text-align: right;\n",
       "    }\n",
       "</style>\n",
       "<table border=\"1\" class=\"dataframe\">\n",
       "  <thead>\n",
       "    <tr style=\"text-align: right;\">\n",
       "      <th></th>\n",
       "      <th>Opentime</th>\n",
       "      <th>Open</th>\n",
       "      <th>High</th>\n",
       "      <th>Low</th>\n",
       "      <th>Close</th>\n",
       "      <th>Volume</th>\n",
       "      <th>Closetime</th>\n",
       "      <th>Quote asset volume</th>\n",
       "      <th>Number of trades</th>\n",
       "      <th>Taker by base</th>\n",
       "      <th>Taker buy quote</th>\n",
       "      <th>Ignore</th>\n",
       "    </tr>\n",
       "  </thead>\n",
       "  <tbody>\n",
       "    <tr>\n",
       "      <th>0</th>\n",
       "      <td>2021-11-01 08:00:00</td>\n",
       "      <td>1.965</td>\n",
       "      <td>2.019</td>\n",
       "      <td>1.911</td>\n",
       "      <td>1.949</td>\n",
       "      <td>144061135.4</td>\n",
       "      <td>1635811199999</td>\n",
       "      <td>2.824457e+08</td>\n",
       "      <td>443944</td>\n",
       "      <td>71078236.0</td>\n",
       "      <td>1.394258e+08</td>\n",
       "      <td>0</td>\n",
       "    </tr>\n",
       "    <tr>\n",
       "      <th>1</th>\n",
       "      <td>2021-11-02 08:00:00</td>\n",
       "      <td>1.949</td>\n",
       "      <td>1.996</td>\n",
       "      <td>1.933</td>\n",
       "      <td>1.971</td>\n",
       "      <td>124263204.0</td>\n",
       "      <td>1635897599999</td>\n",
       "      <td>2.446304e+08</td>\n",
       "      <td>382592</td>\n",
       "      <td>64339347.3</td>\n",
       "      <td>1.267002e+08</td>\n",
       "      <td>0</td>\n",
       "    </tr>\n",
       "    <tr>\n",
       "      <th>2</th>\n",
       "      <td>2021-11-03 08:00:00</td>\n",
       "      <td>1.971</td>\n",
       "      <td>2.144</td>\n",
       "      <td>1.950</td>\n",
       "      <td>2.063</td>\n",
       "      <td>335561983.7</td>\n",
       "      <td>1635983999999</td>\n",
       "      <td>6.936646e+08</td>\n",
       "      <td>1237122</td>\n",
       "      <td>167743048.3</td>\n",
       "      <td>3.467647e+08</td>\n",
       "      <td>0</td>\n",
       "    </tr>\n",
       "    <tr>\n",
       "      <th>3</th>\n",
       "      <td>2021-11-04 08:00:00</td>\n",
       "      <td>2.063</td>\n",
       "      <td>2.103</td>\n",
       "      <td>1.933</td>\n",
       "      <td>1.983</td>\n",
       "      <td>174549100.4</td>\n",
       "      <td>1636070399999</td>\n",
       "      <td>3.509825e+08</td>\n",
       "      <td>586577</td>\n",
       "      <td>80789835.4</td>\n",
       "      <td>1.624612e+08</td>\n",
       "      <td>0</td>\n",
       "    </tr>\n",
       "    <tr>\n",
       "      <th>4</th>\n",
       "      <td>2021-11-05 08:00:00</td>\n",
       "      <td>1.983</td>\n",
       "      <td>2.017</td>\n",
       "      <td>1.959</td>\n",
       "      <td>1.982</td>\n",
       "      <td>108180863.7</td>\n",
       "      <td>1636156799999</td>\n",
       "      <td>2.150281e+08</td>\n",
       "      <td>346939</td>\n",
       "      <td>51873631.3</td>\n",
       "      <td>1.030921e+08</td>\n",
       "      <td>0</td>\n",
       "    </tr>\n",
       "  </tbody>\n",
       "</table>\n",
       "</div>"
      ],
      "text/plain": [
       "              Opentime   Open   High    Low  Close       Volume  \\\n",
       "0  2021-11-01 08:00:00  1.965  2.019  1.911  1.949  144061135.4   \n",
       "1  2021-11-02 08:00:00  1.949  1.996  1.933  1.971  124263204.0   \n",
       "2  2021-11-03 08:00:00  1.971  2.144  1.950  2.063  335561983.7   \n",
       "3  2021-11-04 08:00:00  2.063  2.103  1.933  1.983  174549100.4   \n",
       "4  2021-11-05 08:00:00  1.983  2.017  1.959  1.982  108180863.7   \n",
       "\n",
       "       Closetime  Quote asset volume  Number of trades  Taker by base  \\\n",
       "0  1635811199999        2.824457e+08            443944     71078236.0   \n",
       "1  1635897599999        2.446304e+08            382592     64339347.3   \n",
       "2  1635983999999        6.936646e+08           1237122    167743048.3   \n",
       "3  1636070399999        3.509825e+08            586577     80789835.4   \n",
       "4  1636156799999        2.150281e+08            346939     51873631.3   \n",
       "\n",
       "   Taker buy quote  Ignore  \n",
       "0     1.394258e+08       0  \n",
       "1     1.267002e+08       0  \n",
       "2     3.467647e+08       0  \n",
       "3     1.624612e+08       0  \n",
       "4     1.030921e+08       0  "
      ]
     },
     "execution_count": 27,
     "metadata": {},
     "output_type": "execute_result"
    }
   ],
   "source": [
    "df = pd.read_csv(\"../data/adausdt.csv\")\n",
    "df.head()"
   ]
  },
  {
   "cell_type": "code",
   "execution_count": 28,
   "metadata": {},
   "outputs": [],
   "source": [
    "df['returns'] = np.log(df['Close'] / df['Close'].shift(1))\n",
    "df.dropna(inplace=True)\n",
    "df['direction'] = np.sign(df['returns']).astype(int)"
   ]
  },
  {
   "cell_type": "code",
   "execution_count": 29,
   "metadata": {},
   "outputs": [],
   "source": [
    "def create_lags(data):\n",
    "    global cols\n",
    "    cols = []\n",
    "    for lag in range(1, 3):\n",
    "        col = 'lag_{}'.format(lag)\n",
    "        data[col] = data['returns'].shift(lag)\n",
    "        cols.append(col)\n",
    "    print('The following columns have been added: \\n')\n",
    "    print(cols)"
   ]
  },
  {
   "cell_type": "code",
   "execution_count": 30,
   "metadata": {},
   "outputs": [
    {
     "name": "stdout",
     "output_type": "stream",
     "text": [
      "The following columns have been added: \n",
      "\n",
      "['lag_1', 'lag_2']\n"
     ]
    }
   ],
   "source": [
    "create_lags(df)"
   ]
  },
  {
   "cell_type": "code",
   "execution_count": 31,
   "metadata": {},
   "outputs": [],
   "source": [
    "df.dropna(inplace=True)"
   ]
  },
  {
   "cell_type": "code",
   "execution_count": 32,
   "metadata": {},
   "outputs": [],
   "source": [
    "split = int(len(df) * 0.80)"
   ]
  },
  {
   "cell_type": "code",
   "execution_count": 33,
   "metadata": {},
   "outputs": [
    {
     "data": {
      "text/plain": [
       "(216, 16)"
      ]
     },
     "execution_count": 33,
     "metadata": {},
     "output_type": "execute_result"
    }
   ],
   "source": [
    "train = df.iloc[:split].copy()\n",
    "train.shape"
   ]
  },
  {
   "cell_type": "code",
   "execution_count": 34,
   "metadata": {},
   "outputs": [
    {
     "data": {
      "image/png": "[encoded data removed]",
      "text/plain": [
       "<Figure size 600x600 with 1 Axes>"
      ]
     },
     "metadata": {},
     "output_type": "display_data"
    }
   ],
   "source": [
    "import seaborn as sns\n",
    "import matplotlib.pyplot as plt\n",
    "\n",
    "fig,ax = plt.subplots(1,1,figsize=(6,6))\n",
    "fig = sns.scatterplot(data=train, x=\"lag_1\", y=\"lag_2\", hue=\"direction\", style=\"direction\", palette=\"deep\")"
   ]
  },
  {
   "cell_type": "markdown",
   "metadata": {},
   "source": [
    "For our logistic regression model, \n",
    "\n",
    "$$\n",
    "z = \\overrightarrow{w} \\cdot \\overrightarrow{x} + b\n",
    "$$"
   ]
  },
  {
   "cell_type": "markdown",
   "metadata": {},
   "source": [
    "From the raw features data, we transformed into a polynomial with terms $x_1$ and $x_2$, \n",
    "which represents `lag_1` and `lag_2` respectively.\n",
    "\n",
    "$$\n",
    "y = w_1 x_1 + w_2 x_2 + w_3 x_1^2 + \\cdots + w_n x_1^7 x_2^8\n",
    "$$"
   ]
  },
  {
   "cell_type": "code",
   "execution_count": 35,
   "metadata": {},
   "outputs": [
    {
     "data": {
      "text/plain": [
       "array([[ 4.56202059e-02,  1.12246076e-02,  2.08120319e-03, ...,\n",
       "         3.30368902e-11,  8.12855011e-12,  1.99998628e-12],\n",
       "       [-3.95503846e-02,  4.56202059e-02,  1.56423292e-03, ...,\n",
       "         6.77532896e-09, -7.81514278e-09,  9.01453745e-09],\n",
       "       [-5.04413630e-04, -3.95503846e-02,  2.54433110e-07, ...,\n",
       "         6.22553198e-13,  4.88135469e-11,  3.82740362e-09],\n",
       "       ...,\n",
       "       [ 1.15402967e-02, -4.72583793e-02,  1.33178449e-04, ...,\n",
       "         6.64277050e-10, -2.72026426e-09,  1.11396859e-08],\n",
       "       [ 1.58744191e-03,  1.15402967e-02,  2.51997181e-06, ...,\n",
       "         4.46954780e-14,  3.24924696e-13,  2.36211946e-12],\n",
       "       [ 7.09179355e-02,  1.58744191e-03,  5.02935357e-03, ...,\n",
       "         3.19376923e-14,  7.14899987e-16,  1.60024709e-17]])"
      ]
     },
     "execution_count": 35,
     "metadata": {},
     "output_type": "execute_result"
    }
   ],
   "source": [
    "import sys\n",
    "sys.path.append('../')\n",
    "\n",
    "from utils import *\n",
    "\n",
    "X_mapped = map_feature(train.lag_1, train.lag_2)\n",
    "X_mapped"
   ]
  },
  {
   "cell_type": "code",
   "execution_count": 36,
   "metadata": {},
   "outputs": [
    {
     "name": "stdout",
     "output_type": "stream",
     "text": [
      "Iteration    0: Cost     1.53   \n",
      "Iteration 1000: Cost    -0.28   \n",
      "Iteration 2000: Cost    -0.62   \n",
      "Iteration 3000: Cost    -0.90   \n",
      "Iteration 4000: Cost    -1.15   \n",
      "Iteration 5000: Cost    -1.40   \n",
      "Iteration 6000: Cost    -1.64   \n",
      "Iteration 7000: Cost    -1.88   \n",
      "Iteration 8000: Cost    -2.12   \n",
      "Iteration 9000: Cost    -2.36   \n",
      "Iteration 9999: Cost    -2.60   \n"
     ]
    }
   ],
   "source": [
    "# Initialize fitting parameters\n",
    "np.random.seed(42)\n",
    "initial_w = np.random.rand(X_mapped.shape[1])-0.5\n",
    "initial_b = 1.\n",
    "\n",
    "# Set regularization parameter lambda_ to 1 (you can try varying this)\n",
    "lambda_ = 0.01;                                          \n",
    "# Some gradient descent settings\n",
    "iterations = 10000\n",
    "alpha = 0.01\n",
    "\n",
    "y_train = train.direction.to_numpy()\n",
    "\n",
    "w,b, J_history,_ = gradient_descent(z_scaler(X_mapped), y_train, initial_w, initial_b, \n",
    "                                    compute_cost_reg, compute_gradient_reg, \n",
    "                                    alpha, iterations, lambda_)"
   ]
  },
  {
   "cell_type": "markdown",
   "metadata": {},
   "source": [
    "once computed, the fitting parameters are"
   ]
  },
  {
   "cell_type": "code",
   "execution_count": 37,
   "metadata": {},
   "outputs": [
    {
     "data": {
      "text/plain": [
       "array([-2.92206597, -1.32196265, -5.53293367, -0.06750312, -6.58118192,\n",
       "       -0.10098662, -0.76434892,  0.10135556, -0.05894041, -0.08101532,\n",
       "       -0.65837157,  0.24105142,  0.15985536, -0.59911192, -0.4938159 ,\n",
       "       -0.51202805, -0.38572925, -0.17016276, -0.26438685, -0.39824328,\n",
       "       -0.08270446, -0.55160589, -0.4001411 , -0.32527461, -0.23634586,\n",
       "        0.09425634, -0.49549003])"
      ]
     },
     "execution_count": 37,
     "metadata": {},
     "output_type": "execute_result"
    }
   ],
   "source": [
    "w"
   ]
  },
  {
   "cell_type": "code",
   "execution_count": 38,
   "metadata": {},
   "outputs": [
    {
     "name": "stderr",
     "output_type": "stream",
     "text": [
      "/home/pehcy/projects/binoculars/src/notebook/../utils.py:5: RuntimeWarning: overflow encountered in exp\n",
      "  g = 1 / (1 + np.exp(np.negative(z)))\n"
     ]
    },
    {
     "data": {
      "image/png": "[encoded data removed]",
      "text/plain": [
       "<Figure size 600x600 with 1 Axes>"
      ]
     },
     "metadata": {},
     "output_type": "display_data"
    }
   ],
   "source": [
    "is_positive = train[train['direction'] > 0]\n",
    "is_negative = train[train['direction'] <= 0]\n",
    "\n",
    "fig, ax = plt.subplots(figsize=(6, 6))\n",
    "ax.plot(z_scaler(is_positive['lag_1']), z_scaler(is_positive['lag_2']), 'k+')\n",
    "ax.plot(z_scaler(is_negative['lag_1']), z_scaler(is_negative['lag_2']), 'mx')\n",
    "plt.xlabel('lag 1')\n",
    "plt.ylabel('lag 2')\n",
    "plot_decision_boundary(ax, w, b, z_scaler(X_mapped), y_train)"
   ]
  }
 ],
 "metadata": {
  "kernelspec": {
   "display_name": "Python 3.9.13 ('binance')",
   "language": "python",
   "name": "python3"
  },
  "language_info": {
   "codemirror_mode": {
    "name": "ipython",
    "version": 3
   },
   "file_extension": ".py",
   "mimetype": "text/x-python",
   "name": "python",
   "nbconvert_exporter": "python",
   "pygments_lexer": "ipython3",
   "version": "3.9.13"
  },
  "orig_nbformat": 4,
  "vscode": {
   "interpreter": {
    "hash": "df94e83755ed8904cc98339ae40914a9dd1126f7d89568b03f0ea387b2f79acd"
   }
  }
 },
 "nbformat": 4,
 "nbformat_minor": 2
}
