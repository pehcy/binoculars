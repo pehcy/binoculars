{
 "cells": [
  {
   "cell_type": "markdown",
   "metadata": {},
   "source": [
    "## Analysis on buy/sell data"
   ]
  },
  {
   "cell_type": "code",
   "execution_count": 1,
   "metadata": {},
   "outputs": [],
   "source": [
    "import sys\n",
    "sys.path.append('../')\n",
    "from macd import *"
   ]
  },
  {
   "cell_type": "code",
   "execution_count": 2,
   "metadata": {},
   "outputs": [],
   "source": [
    "buy, sell = [], []"
   ]
  },
  {
   "cell_type": "code",
   "execution_count": 3,
   "metadata": {},
   "outputs": [],
   "source": [
    "years = ['2020', '2021', '2022']\n",
    "for y in years:\n",
    "    df = pd.read_csv(f\"../data/adausdt_{y}.csv\")\n",
    "    macd_bot = MACDStrategy(df['Close'])\n",
    "    buy.extend(np.array(macd_bot.buy)[np.isfinite(macd_bot.buy)])\n",
    "    sell.extend(np.array(macd_bot.sell)[np.isfinite(macd_bot.sell)])"
   ]
  },
  {
   "cell_type": "code",
   "execution_count": 4,
   "metadata": {},
   "outputs": [
    {
     "data": {
      "text/plain": [
       "<matplotlib.collections.PathCollection at 0x7ff5546a4730>"
      ]
     },
     "execution_count": 4,
     "metadata": {},
     "output_type": "execute_result"
    },
    {
     "data": {
      "image/png": "[encoded data removed]",
      "text/plain": [
       "<Figure size 640x480 with 1 Axes>"
      ]
     },
     "metadata": {},
     "output_type": "display_data"
    }
   ],
   "source": [
    "fig,ax = plt.subplots()\n",
    "X = np.array(buy[:-2])\n",
    "y = np.array(sell)\n",
    "ax.scatter(X, y, marker='o', c='deepskyblue')"
   ]
  },
  {
   "cell_type": "code",
   "execution_count": 5,
   "metadata": {},
   "outputs": [],
   "source": [
    "#Function to calculate the cost\n",
    "def compute_cost(x, y, w, b):\n",
    "   \n",
    "    m = x.shape[0] \n",
    "    cost = 0\n",
    "    \n",
    "    for i in range(m):\n",
    "        f_wb = w * x[i] + b\n",
    "        cost = cost + (f_wb - y[i])**2\n",
    "    total_cost = 1 / (2 * m) * cost\n",
    "\n",
    "    return total_cost"
   ]
  },
  {
   "cell_type": "code",
   "execution_count": 6,
   "metadata": {},
   "outputs": [],
   "source": [
    "def compute_gradient(x, y, w, b): \n",
    "    \"\"\"\n",
    "    Computes the gradient for linear regression \n",
    "    Args:\n",
    "      x (ndarray (m,)): Data, m examples \n",
    "      y (ndarray (m,)): target values\n",
    "      w,b (scalar)    : model parameters  \n",
    "    Returns\n",
    "      dj_dw (scalar): The gradient of the cost w.r.t. the parameters w\n",
    "      dj_db (scalar): The gradient of the cost w.r.t. the parameter b     \n",
    "     \"\"\"\n",
    "    \n",
    "    # Number of training examples\n",
    "    m = x.shape[0]    \n",
    "    dj_dw = 0\n",
    "    dj_db = 0\n",
    "    \n",
    "    for i in range(m):  \n",
    "        f_wb = w * x[i] + b \n",
    "        dj_dw_i = (f_wb - y[i]) * x[i] \n",
    "        dj_db_i = f_wb - y[i] \n",
    "        dj_db += dj_db_i\n",
    "        dj_dw += dj_dw_i \n",
    "    dj_dw = dj_dw / m \n",
    "    dj_db = dj_db / m \n",
    "        \n",
    "    return dj_dw, dj_db"
   ]
  },
  {
   "cell_type": "code",
   "execution_count": 7,
   "metadata": {},
   "outputs": [],
   "source": [
    "import math\n",
    "\n",
    "def gradient_descent(x, y, w_in, b_in, alpha, num_iters, cost_function, gradient_function): \n",
    "    \"\"\"\n",
    "    Performs gradient descent to fit w,b. Updates w,b by taking \n",
    "    num_iters gradient steps with learning rate alpha\n",
    "    \n",
    "    Args:\n",
    "      x (ndarray (m,))  : Data, m examples \n",
    "      y (ndarray (m,))  : target values\n",
    "      w_in,b_in (scalar): initial values of model parameters  \n",
    "      alpha (float):     Learning rate\n",
    "      num_iters (int):   number of iterations to run gradient descent\n",
    "      cost_function:     function to call to produce cost\n",
    "      gradient_function: function to call to produce gradient\n",
    "      \n",
    "    Returns:\n",
    "      w (scalar): Updated value of parameter after running gradient descent\n",
    "      b (scalar): Updated value of parameter after running gradient descent\n",
    "      J_history (List): History of cost values\n",
    "      p_history (list): History of parameters [w,b] \n",
    "      \"\"\"\n",
    "    \n",
    "    # An array to store cost J and w's at each iteration primarily for graphing later\n",
    "    J_history = []\n",
    "    p_history = []\n",
    "    b = b_in\n",
    "    w = w_in\n",
    "    \n",
    "    for i in range(num_iters):\n",
    "        # Calculate the gradient and update the parameters using gradient_function\n",
    "        dj_dw, dj_db = gradient_function(x, y, w , b)     \n",
    "\n",
    "        # Update Parameters using equation (3) above\n",
    "        b = b - alpha * dj_db                            \n",
    "        w = w - alpha * dj_dw                            \n",
    "\n",
    "        # Save cost J at each iteration\n",
    "        if i<100000:      # prevent resource exhaustion \n",
    "            J_history.append( cost_function(x, y, w , b))\n",
    "            p_history.append([w,b])\n",
    "        # Print cost every at intervals 10 times or as many iterations if < 10\n",
    "        if i% math.ceil(num_iters/10) == 0:\n",
    "            print(f\"Iteration {i:4}: Cost {J_history[-1]:0.2e} \",\n",
    "                  f\"dj_dw: {dj_dw: 0.3e}, dj_db: {dj_db: 0.3e}  \",\n",
    "                  f\"w: {w: 0.3e}, b:{b: 0.5e}\")\n",
    " \n",
    "    return w, b, J_history, p_history #return w and J,w history for graphing"
   ]
  },
  {
   "cell_type": "code",
   "execution_count": 8,
   "metadata": {},
   "outputs": [
    {
     "name": "stdout",
     "output_type": "stream",
     "text": [
      "Iteration    0: Cost 6.41e-01  dj_dw: -1.180e+00, dj_db: -8.984e-01   w:  1.180e-02, b: 8.98437e-03\n",
      "Iteration 1000: Cost 8.52e-02  dj_dw: -6.187e-03, dj_db:  7.011e-03   w:  8.278e-01, b: 1.95604e-01\n",
      "Iteration 2000: Cost 8.50e-02  dj_dw: -5.409e-04, dj_db:  6.130e-04   w:  8.510e-01, b: 1.69380e-01\n",
      "Iteration 3000: Cost 8.50e-02  dj_dw: -4.730e-05, dj_db:  5.360e-05   w:  8.530e-01, b: 1.67087e-01\n",
      "Iteration 4000: Cost 8.50e-02  dj_dw: -4.136e-06, dj_db:  4.687e-06   w:  8.532e-01, b: 1.66887e-01\n",
      "Iteration 5000: Cost 8.50e-02  dj_dw: -3.616e-07, dj_db:  4.098e-07   w:  8.532e-01, b: 1.66869e-01\n",
      "Iteration 6000: Cost 8.50e-02  dj_dw: -3.162e-08, dj_db:  3.583e-08   w:  8.532e-01, b: 1.66868e-01\n",
      "Iteration 7000: Cost 8.50e-02  dj_dw: -2.765e-09, dj_db:  3.133e-09   w:  8.532e-01, b: 1.66868e-01\n",
      "Iteration 8000: Cost 8.50e-02  dj_dw: -2.417e-10, dj_db:  2.740e-10   w:  8.532e-01, b: 1.66868e-01\n",
      "Iteration 9000: Cost 8.50e-02  dj_dw: -2.114e-11, dj_db:  2.395e-11   w:  8.532e-01, b: 1.66868e-01\n",
      "(w,b) found by gradient descent: (  0.8532,  0.1669)\n"
     ]
    }
   ],
   "source": [
    "# initialize parameters\n",
    "w_init = 0\n",
    "b_init = 0\n",
    "# some gradient descent settings\n",
    "iterations = 10000\n",
    "tmp_alpha = 1.0e-2\n",
    "# run gradient descent\n",
    "w_final, b_final, J_hist, p_hist = gradient_descent(X ,y, w_init, b_init, tmp_alpha, \n",
    "                                                    iterations, compute_cost, compute_gradient)\n",
    "print(f\"(w,b) found by gradient descent: ({w_final:8.4f},{b_final:8.4f})\")"
   ]
  },
  {
   "cell_type": "code",
   "execution_count": 20,
   "metadata": {},
   "outputs": [
    {
     "data": {
      "image/png": "[encoded data removed]",
      "text/plain": [
       "<Figure size 640x480 with 1 Axes>"
      ]
     },
     "metadata": {},
     "output_type": "display_data"
    }
   ],
   "source": [
    "def f(x):\n",
    "    return w_final * x + b_final\n",
    "\n",
    "t1 = np.arange(0.0, 3.0, 0.02)\n",
    "\n",
    "fig,ax = plt.subplots()\n",
    "X = np.array(buy[:-2])\n",
    "y = np.array(sell)\n",
    "ax.scatter(X, y, marker='o', c='deepskyblue')\n",
    "ax.set_xlabel('Buy')\n",
    "ax.set_ylabel('Sell')\n",
    "ax.plot(t1, f(t1), '--', c='#fdb421', linewidth=3)\n",
    "plt.grid(axis='x', color='0.75')"
   ]
  },
  {
   "cell_type": "markdown",
   "metadata": {},
   "source": [
    "Now we can determine the expected profit from this joint statistics\n",
    "$$\\mathbb{E}[\\hat{Y}-X] = \\mathbb{E}[\\hat{Y}] - \\mathbb{E}[X]$$"
   ]
  },
  {
   "cell_type": "code",
   "execution_count": 10,
   "metadata": {},
   "outputs": [
    {
     "data": {
      "text/plain": [
       "0.04097600000000012"
      ]
     },
     "execution_count": 10,
     "metadata": {},
     "output_type": "execute_result"
    }
   ],
   "source": [
    "mu = np.mean(y) - np.mean(X)\n",
    "mu"
   ]
  },
  {
   "cell_type": "markdown",
   "metadata": {},
   "source": [
    "and for the variance of profit of `adausdt` we will use:\n",
    "$$\\mathbb{V}(Y - X) = \\mathbb{V}(Y) - 2Cov(X,Y) + \\mathbb{V}(X)$$\n",
    "where the formula of covariance is given as\n",
    "$$Cov(X,Y) = \\frac{\\sum (x_i - \\bar{x})(y_i - \\bar{y})}{N - 1}$$"
   ]
  },
  {
   "cell_type": "code",
   "execution_count": 11,
   "metadata": {},
   "outputs": [
    {
     "data": {
      "text/plain": [
       "0.3899412227163241"
      ]
     },
     "execution_count": 11,
     "metadata": {},
     "output_type": "execute_result"
    }
   ],
   "source": [
    "cov = np.dot(X - np.mean(X), y - np.mean(y)) / (len(X) - 1)\n",
    "sigma = np.sqrt(np.var(y) - 2 * cov + np.var(X))\n",
    "sigma"
   ]
  },
  {
   "cell_type": "code",
   "execution_count": 12,
   "metadata": {},
   "outputs": [
    {
     "data": {
      "text/plain": [
       "(array([12.,  2.,  9.,  3.,  3.,  1.]),\n",
       " array([0.04755   , 0.50079167, 0.95403333, 1.407275  , 1.86051667,\n",
       "        2.31375833, 2.767     ]),\n",
       " <BarContainer object of 6 artists>)"
      ]
     },
     "execution_count": 12,
     "metadata": {},
     "output_type": "execute_result"
    },
    {
     "data": {
      "image/png": "[encoded data removed]",
      "text/plain": [
       "<Figure size 640x480 with 1 Axes>"
      ]
     },
     "metadata": {},
     "output_type": "display_data"
    }
   ],
   "source": [
    "plt.hist(y, bins='auto')"
   ]
  },
  {
   "cell_type": "markdown",
   "metadata": {},
   "source": [
    "Eyeballing through the histogram above, we suggest that the buy-sell data is exponentially distributed with $\\lambda = 1$. \n",
    "\n",
    "We can determine the underlying distribution by performing Kolmogorov-Smirnov one sample test."
   ]
  },
  {
   "cell_type": "code",
   "execution_count": 13,
   "metadata": {},
   "outputs": [],
   "source": [
    "from scipy.stats import ks_2samp, kstest"
   ]
  },
  {
   "cell_type": "code",
   "execution_count": 14,
   "metadata": {},
   "outputs": [
    {
     "data": {
      "text/plain": [
       "KstestResult(statistic=0.16666666666666666, pvalue=0.8079631540901643)"
      ]
     },
     "execution_count": 14,
     "metadata": {},
     "output_type": "execute_result"
    }
   ],
   "source": [
    "ks_2samp(X, y)"
   ]
  },
  {
   "cell_type": "code",
   "execution_count": 15,
   "metadata": {},
   "outputs": [
    {
     "data": {
      "text/plain": [
       "KstestResult(statistic=0.20505825371311423, pvalue=0.13903686486004874)"
      ]
     },
     "execution_count": 15,
     "metadata": {},
     "output_type": "execute_result"
    }
   ],
   "source": [
    "kstest(X, 'expon')"
   ]
  },
  {
   "cell_type": "markdown",
   "metadata": {},
   "source": [
    "With the p-value > 0.05, we do not reject null hypothesis. It is said that the \n",
    "buy and sell data are drawn from the same probability distributions."
   ]
  }
 ],
 "metadata": {
  "kernelspec": {
   "display_name": "Python 3.10.6 ('binance-env')",
   "language": "python",
   "name": "python3"
  },
  "language_info": {
   "codemirror_mode": {
    "name": "ipython",
    "version": 3
   },
   "file_extension": ".py",
   "mimetype": "text/x-python",
   "name": "python",
   "nbconvert_exporter": "python",
   "pygments_lexer": "ipython3",
   "version": "3.10.6"
  },
  "orig_nbformat": 4,
  "vscode": {
   "interpreter": {
    "hash": "1fe2f8877fdb8b8e073f669ad9a076ecfaad658d09a261d1f22c0c7b496f1bae"
   }
  }
 },
 "nbformat": 4,
 "nbformat_minor": 2
}
