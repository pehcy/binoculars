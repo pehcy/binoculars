{
 "cells": [
  {
   "cell_type": "code",
   "execution_count": 1,
   "metadata": {},
   "outputs": [],
   "source": [
    "import pandas as pd\n",
    "import numpy as np\n",
    "import matplotlib.pyplot as plt\n",
    "import math"
   ]
  },
  {
   "cell_type": "code",
   "execution_count": 2,
   "metadata": {},
   "outputs": [],
   "source": [
    "INTERVAL = 0.005\n",
    "GRID_LEVELS = 20\n",
    "\n",
    "def grid_price(level, base_price):\n",
    "    return int(base_price * math.pow(1 + INTERVAL, level - GRID_LEVELS / 2))"
   ]
  },
  {
   "cell_type": "code",
   "execution_count": 3,
   "metadata": {},
   "outputs": [],
   "source": [
    "LINE_COUNT = 5\n",
    "GRID_SPACE = 0.05\n",
    "\n",
    "def get_grid_lines(current_price):\n",
    "    stop_loss = current_price - ((LINE_COUNT + 1) * GRID_SPACE)\n",
    "    take_profit = current_price + ((LINE_COUNT + 1) * GRID_SPACE)\n",
    "\n",
    "    buy_lines = []\n",
    "    sell_lines = []\n",
    "\n",
    "    for i in range(LINE_COUNT):\n",
    "        buy_lines.append(current_price - (i * GRID_SPACE))\n",
    "        sell_lines.append(current_price + (i * GRID_SPACE))\n",
    "         \n",
    "    return stop_loss, take_profit, buy_lines, sell_lines"
   ]
  },
  {
   "cell_type": "code",
   "execution_count": 4,
   "metadata": {},
   "outputs": [],
   "source": [
    "def calculate_position_size(acc_size, tick_value=1):\n",
    "    risk = acc_size * 0.1\n",
    "    ticks_at_risk = (LINE_COUNT + 1) * GRID_SPACE\n",
    "    position_size = round(risk / (ticks_at_risk * tick_value), 2)\n",
    "    return position_size"
   ]
  },
  {
   "cell_type": "code",
   "execution_count": 5,
   "metadata": {},
   "outputs": [],
   "source": [
    "init_funds = 100000\n",
    "\n",
    "position_size = calculate_position_size(acc_size=init_funds)\n",
    "partial_position = position_size / 5"
   ]
  },
  {
   "cell_type": "code",
   "execution_count": 6,
   "metadata": {},
   "outputs": [
    {
     "data": {
      "text/html": [
       "<div>\n",
       "<style scoped>\n",
       "    .dataframe tbody tr th:only-of-type {\n",
       "        vertical-align: middle;\n",
       "    }\n",
       "\n",
       "    .dataframe tbody tr th {\n",
       "        vertical-align: top;\n",
       "    }\n",
       "\n",
       "    .dataframe thead th {\n",
       "        text-align: right;\n",
       "    }\n",
       "</style>\n",
       "<table border=\"1\" class=\"dataframe\">\n",
       "  <thead>\n",
       "    <tr style=\"text-align: right;\">\n",
       "      <th></th>\n",
       "      <th>Opentime</th>\n",
       "      <th>Open</th>\n",
       "      <th>High</th>\n",
       "      <th>Low</th>\n",
       "      <th>Close</th>\n",
       "      <th>Volume</th>\n",
       "      <th>Closetime</th>\n",
       "      <th>Quote asset volume</th>\n",
       "      <th>Number of trades</th>\n",
       "      <th>Taker by base</th>\n",
       "      <th>Taker buy quote</th>\n",
       "      <th>Ignore</th>\n",
       "    </tr>\n",
       "  </thead>\n",
       "  <tbody>\n",
       "    <tr>\n",
       "      <th>0</th>\n",
       "      <td>2021-11-01 08:00:00</td>\n",
       "      <td>1.965</td>\n",
       "      <td>2.019</td>\n",
       "      <td>1.911</td>\n",
       "      <td>1.949</td>\n",
       "      <td>144061135.4</td>\n",
       "      <td>1635811199999</td>\n",
       "      <td>2.824457e+08</td>\n",
       "      <td>443944</td>\n",
       "      <td>71078236.0</td>\n",
       "      <td>1.394258e+08</td>\n",
       "      <td>0</td>\n",
       "    </tr>\n",
       "    <tr>\n",
       "      <th>1</th>\n",
       "      <td>2021-11-02 08:00:00</td>\n",
       "      <td>1.949</td>\n",
       "      <td>1.996</td>\n",
       "      <td>1.933</td>\n",
       "      <td>1.971</td>\n",
       "      <td>124263204.0</td>\n",
       "      <td>1635897599999</td>\n",
       "      <td>2.446304e+08</td>\n",
       "      <td>382592</td>\n",
       "      <td>64339347.3</td>\n",
       "      <td>1.267002e+08</td>\n",
       "      <td>0</td>\n",
       "    </tr>\n",
       "    <tr>\n",
       "      <th>2</th>\n",
       "      <td>2021-11-03 08:00:00</td>\n",
       "      <td>1.971</td>\n",
       "      <td>2.144</td>\n",
       "      <td>1.950</td>\n",
       "      <td>2.063</td>\n",
       "      <td>335561983.7</td>\n",
       "      <td>1635983999999</td>\n",
       "      <td>6.936646e+08</td>\n",
       "      <td>1237122</td>\n",
       "      <td>167743048.3</td>\n",
       "      <td>3.467647e+08</td>\n",
       "      <td>0</td>\n",
       "    </tr>\n",
       "    <tr>\n",
       "      <th>3</th>\n",
       "      <td>2021-11-04 08:00:00</td>\n",
       "      <td>2.063</td>\n",
       "      <td>2.103</td>\n",
       "      <td>1.933</td>\n",
       "      <td>1.983</td>\n",
       "      <td>174549100.4</td>\n",
       "      <td>1636070399999</td>\n",
       "      <td>3.509825e+08</td>\n",
       "      <td>586577</td>\n",
       "      <td>80789835.4</td>\n",
       "      <td>1.624612e+08</td>\n",
       "      <td>0</td>\n",
       "    </tr>\n",
       "    <tr>\n",
       "      <th>4</th>\n",
       "      <td>2021-11-05 08:00:00</td>\n",
       "      <td>1.983</td>\n",
       "      <td>2.017</td>\n",
       "      <td>1.959</td>\n",
       "      <td>1.982</td>\n",
       "      <td>108180863.7</td>\n",
       "      <td>1636156799999</td>\n",
       "      <td>2.150281e+08</td>\n",
       "      <td>346939</td>\n",
       "      <td>51873631.3</td>\n",
       "      <td>1.030921e+08</td>\n",
       "      <td>0</td>\n",
       "    </tr>\n",
       "  </tbody>\n",
       "</table>\n",
       "</div>"
      ],
      "text/plain": [
       "              Opentime   Open   High    Low  Close       Volume  \\\n",
       "0  2021-11-01 08:00:00  1.965  2.019  1.911  1.949  144061135.4   \n",
       "1  2021-11-02 08:00:00  1.949  1.996  1.933  1.971  124263204.0   \n",
       "2  2021-11-03 08:00:00  1.971  2.144  1.950  2.063  335561983.7   \n",
       "3  2021-11-04 08:00:00  2.063  2.103  1.933  1.983  174549100.4   \n",
       "4  2021-11-05 08:00:00  1.983  2.017  1.959  1.982  108180863.7   \n",
       "\n",
       "       Closetime  Quote asset volume  Number of trades  Taker by base  \\\n",
       "0  1635811199999        2.824457e+08            443944     71078236.0   \n",
       "1  1635897599999        2.446304e+08            382592     64339347.3   \n",
       "2  1635983999999        6.936646e+08           1237122    167743048.3   \n",
       "3  1636070399999        3.509825e+08            586577     80789835.4   \n",
       "4  1636156799999        2.150281e+08            346939     51873631.3   \n",
       "\n",
       "   Taker buy quote  Ignore  \n",
       "0     1.394258e+08       0  \n",
       "1     1.267002e+08       0  \n",
       "2     3.467647e+08       0  \n",
       "3     1.624612e+08       0  \n",
       "4     1.030921e+08       0  "
      ]
     },
     "execution_count": 6,
     "metadata": {},
     "output_type": "execute_result"
    }
   ],
   "source": [
    "df = pd.read_csv(\"../data/adausdt.csv\")\n",
    "df.head()"
   ]
  },
  {
   "cell_type": "code",
   "execution_count": 7,
   "metadata": {},
   "outputs": [],
   "source": [
    "stop_loss, take_profit, buy_lines, sell_lines = get_grid_lines(df['Close'][0])"
   ]
  },
  {
   "cell_type": "code",
   "execution_count": 8,
   "metadata": {},
   "outputs": [
    {
     "data": {
      "text/plain": [
       "1.749"
      ]
     },
     "execution_count": 8,
     "metadata": {},
     "output_type": "execute_result"
    }
   ],
   "source": [
    "buy_lines = np.asanyarray(buy_lines)\n",
    "# buy_lines[buy_lines > 0]\n",
    "np.min(buy_lines)"
   ]
  },
  {
   "cell_type": "code",
   "execution_count": 9,
   "metadata": {},
   "outputs": [
    {
     "name": "stdout",
     "output_type": "stream",
     "text": [
      "CPU times: user 2 µs, sys: 0 ns, total: 2 µs\n",
      "Wall time: 3.58 µs\n",
      "Buy market price: 1.949\t qty: 6666.666\n",
      "at time 0\n",
      "=======================\n",
      "buy lines:  [1.949, 1.899, 1.849, 1.799, 1.749]\n",
      "sell lines:  [1.949, 1.999, 2.049, 2.099, 2.149]\n",
      "=======================\n",
      "\n",
      "Sell market price: 1.971\t qty: 6666.666\n",
      "at time 1\n",
      "=======================\n",
      "buy lines:  [1.971, 1.921, 1.871, 1.8210000000000002, 1.7710000000000001]\n",
      "sell lines:  [1.971, 2.021, 2.071, 2.121, 2.1710000000000003]\n",
      "=======================\n",
      "\n",
      "Buy market price: 1.874\t qty: 6666.666\n",
      "at time 15\n",
      "=======================\n",
      "buy lines:  [1.874, 1.824, 1.774, 1.7240000000000002, 1.6740000000000002]\n",
      "sell lines:  [1.874, 1.9240000000000002, 1.9740000000000002, 2.024, 2.0740000000000003]\n",
      "=======================\n",
      "\n",
      "Sell market price: 1.876\t qty: 6666.666\n",
      "at time 16\n",
      "=======================\n",
      "buy lines:  [1.876, 1.8259999999999998, 1.7759999999999998, 1.726, 1.676]\n",
      "sell lines:  [1.876, 1.926, 1.976, 2.026, 2.076]\n",
      "=======================\n",
      "\n",
      "Buy market price: 1.786\t qty: 6666.666\n",
      "at time 17\n",
      "=======================\n",
      "buy lines:  [1.786, 1.736, 1.686, 1.6360000000000001, 1.586]\n",
      "sell lines:  [1.786, 1.836, 1.8860000000000001, 1.936, 1.986]\n",
      "=======================\n",
      "\n",
      "Sell market price: 1.863\t qty: 6666.666\n",
      "at time 18\n",
      "=======================\n",
      "buy lines:  [1.863, 1.813, 1.763, 1.713, 1.663]\n",
      "sell lines:  [1.863, 1.913, 1.963, 2.013, 2.063]\n",
      "=======================\n",
      "\n",
      "Buy market price: 1.835\t qty: 6666.666\n",
      "at time 20\n",
      "=======================\n",
      "buy lines:  [1.835, 1.785, 1.7349999999999999, 1.685, 1.635]\n",
      "sell lines:  [1.835, 1.885, 1.935, 1.9849999999999999, 2.035]\n",
      "=======================\n",
      "\n"
     ]
    }
   ],
   "source": [
    "%time\n",
    "buy_count = 0\n",
    "buy_price = []\n",
    "sell_price = []\n",
    "\n",
    "for i in range(0, len(df)):\n",
    "    if df['Close'][i] > np.min(buy_lines) and df['Close'][i] <= np.max(buy_lines) and buy_count == 0:\n",
    "        print(f'Buy market price: { df.Close[i] }\\t qty: {partial_position}')\n",
    "        print(f'at time {i}')\n",
    "        stop_loss, take_profit, buy_lines, sell_lines = get_grid_lines(df['Close'][i])\n",
    "        print(\"=======================\")\n",
    "        print(\"buy lines: \", buy_lines)\n",
    "        print(\"sell lines: \", sell_lines)\n",
    "        print(\"=======================\\n\")\n",
    "        buy_price.append((i, df.Close[i]))\n",
    "        buy_count += 1\n",
    "\n",
    "    if df['Close'][i] > np.min(sell_lines) and df['Close'][i] <= np.max(sell_lines) and buy_count > 0:\n",
    "        print(f'Sell market price: { df.Close[i] }\\t qty: {partial_position}')\n",
    "        print(f'at time {i}')\n",
    "        stop_loss, take_profit, buy_lines, sell_lines = get_grid_lines(df['Close'][i])\n",
    "        print(\"=======================\")\n",
    "        print(\"buy lines: \", buy_lines)\n",
    "        print(\"sell lines: \", sell_lines)\n",
    "        print(\"=======================\\n\")\n",
    "        sell_price.append((i, df.Close[i]))\n",
    "        buy_count -= 1"
   ]
  },
  {
   "cell_type": "code",
   "execution_count": 10,
   "metadata": {},
   "outputs": [
    {
     "name": "stdout",
     "output_type": "stream",
     "text": [
      "CPU times: user 1 µs, sys: 0 ns, total: 1 µs\n",
      "Wall time: 3.1 µs\n"
     ]
    },
    {
     "data": {
      "text/plain": [
       "0.10099999999999976"
      ]
     },
     "execution_count": 10,
     "metadata": {},
     "output_type": "execute_result"
    }
   ],
   "source": [
    "%time\n",
    "# calculate total profit\n",
    "sum([y[1] - x[1] for x, y in zip(buy_price, sell_price)])"
   ]
  }
 ],
 "metadata": {
  "kernelspec": {
   "display_name": "Python 3.9.13 ('binance')",
   "language": "python",
   "name": "python3"
  },
  "language_info": {
   "codemirror_mode": {
    "name": "ipython",
    "version": 3
   },
   "file_extension": ".py",
   "mimetype": "text/x-python",
   "name": "python",
   "nbconvert_exporter": "python",
   "pygments_lexer": "ipython3",
   "version": "3.9.13"
  },
  "orig_nbformat": 4,
  "vscode": {
   "interpreter": {
    "hash": "df94e83755ed8904cc98339ae40914a9dd1126f7d89568b03f0ea387b2f79acd"
   }
  }
 },
 "nbformat": 4,
 "nbformat_minor": 2
}
