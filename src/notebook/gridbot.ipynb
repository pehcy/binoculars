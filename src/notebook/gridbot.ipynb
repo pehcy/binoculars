{
 "cells": [
  {
   "cell_type": "code",
   "execution_count": 7,
   "metadata": {},
   "outputs": [],
   "source": [
    "import pandas as pd\n",
    "import numpy as np\n",
    "import matplotlib.pyplot as plt\n",
    "import math"
   ]
  },
  {
   "cell_type": "code",
   "execution_count": 8,
   "metadata": {},
   "outputs": [],
   "source": [
    "INTERVAL = 0.005\n",
    "GRID_LEVELS = 20\n",
    "\n",
    "def grid_price(level, base_price):\n",
    "    return int(base_price * math.pow(1 + INTERVAL, level - GRID_LEVELS / 2))"
   ]
  },
  {
   "cell_type": "code",
   "execution_count": 9,
   "metadata": {},
   "outputs": [],
   "source": [
    "LINE_COUNT = 5\n",
    "GRID_SPACE = 100\n",
    "\n",
    "def get_grid_lines(current_price):\n",
    "    stop_loss = current_price - ((LINE_COUNT + 1) * GRID_SPACE)\n",
    "    take_profit = current_price + ((LINE_COUNT + 1) * GRID_SPACE)\n",
    "\n",
    "    buy_lines = []\n",
    "    sell_lines = []\n",
    "\n",
    "    for i in range(LINE_COUNT):\n",
    "        buy_lines.append(current_price - ((i * GRID_SPACE)))\n",
    "        sell_lines.append(current_price + ((i * GRID_SPACE)))\n",
    "         \n",
    "    return stop_loss, take_profit, buy_lines, sell_lines"
   ]
  },
  {
   "cell_type": "code",
   "execution_count": 10,
   "metadata": {},
   "outputs": [],
   "source": [
    "s, t, b, sl = get_grid_lines(2000)"
   ]
  },
  {
   "cell_type": "code",
   "execution_count": 11,
   "metadata": {},
   "outputs": [],
   "source": [
    "def calculate_position_size(acc_size, tick_value=1):\n",
    "    risk = acc_size * 0.1\n",
    "    ticks_at_risk = (LINE_COUNT + 1) * GRID_SPACE\n",
    "    position_size = round(risk / (ticks_at_risk * tick_value), 2)\n",
    "    return position_size"
   ]
  },
  {
   "cell_type": "code",
   "execution_count": 12,
   "metadata": {},
   "outputs": [
    {
     "data": {
      "text/plain": [
       "(1200, 2400, [1800, 1700, 1600, 1500, 1400], [1800, 1900, 2000, 2100, 2200])"
      ]
     },
     "execution_count": 12,
     "metadata": {},
     "output_type": "execute_result"
    }
   ],
   "source": [
    "get_grid_lines(1800)"
   ]
  },
  {
   "cell_type": "code",
   "execution_count": 15,
   "metadata": {},
   "outputs": [],
   "source": [
    "init_funds = 100000\n",
    "\n",
    "position_size = calculate_position_size(acc_size=init_funds)\n",
    "partial_position = position_size / 5"
   ]
  }
 ],
 "metadata": {
  "kernelspec": {
   "display_name": "Python 3.9.13 ('tf-env')",
   "language": "python",
   "name": "python3"
  },
  "language_info": {
   "codemirror_mode": {
    "name": "ipython",
    "version": 3
   },
   "file_extension": ".py",
   "mimetype": "text/x-python",
   "name": "python",
   "nbconvert_exporter": "python",
   "pygments_lexer": "ipython3",
   "version": "3.9.13"
  },
  "orig_nbformat": 4,
  "vscode": {
   "interpreter": {
    "hash": "dffe367d02f6deb6b4c28fa9b14e39a7f37a3b7e25b302d054083ecc1a57c2c2"
   }
  }
 },
 "nbformat": 4,
 "nbformat_minor": 2
}
